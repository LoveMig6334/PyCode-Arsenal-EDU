{
 "cells": [
  {
   "cell_type": "code",
   "execution_count": 1,
   "metadata": {
    "executionInfo": {
     "elapsed": 335,
     "status": "ok",
     "timestamp": 1729756033952,
     "user": {
      "displayName": "ธรรศ บุนนาค",
      "userId": "10254962030361458836"
     },
     "user_tz": -420
    },
    "id": "CREWgvCxZxQk"
   },
   "outputs": [],
   "source": [
    "import matplotlib.pyplot as plt\n",
    "import numpy as np\n",
    "import pandas as pd"
   ]
  },
  {
   "cell_type": "markdown",
   "metadata": {
    "id": "QHwlOwPbZxQl"
   },
   "source": [
    "## โจทย์\n",
    "ในฐานะ Data Scientist ของบริษัท Thaiแทร่ คุณได้รับมอบหมายให้ทำการสร้างโมเดล AI เพื่อจำแนก\n",
    "\n",
    "\n",
    "ความเห็นของนักเรียนในปีการศึกษา 2561 ต่อนโยบายการศึกษา และสอบเข้าในช่วง Tcas61 ว่าเป็นเชิงบวก หรือเชิงลบ\n",
    "\n",
    "\n",
    "เพื่อนำมาวิเคราะห์ผลตอบรับใน Social Media หลังการออกนโยบายการศึกษาของประเทศไทยในปี 2567 ว่ามีผลเป็นบวก หรือเป็นลบ"
   ]
  },
  {
   "cell_type": "markdown",
   "metadata": {
    "id": "tUBxVpLDZxQm"
   },
   "source": [
    "### โหลดข้อมูล"
   ]
  },
  {
   "cell_type": "code",
   "execution_count": 2,
   "metadata": {
    "colab": {
     "base_uri": "https://localhost:8080/",
     "height": 206
    },
    "executionInfo": {
     "elapsed": 351,
     "status": "ok",
     "timestamp": 1729756035390,
     "user": {
      "displayName": "ธรรศ บุนนาค",
      "userId": "10254962030361458836"
     },
     "user_tz": -420
    },
    "id": "SxzJQhotZxQm",
    "outputId": "c4eab448-d91c-475e-bd9e-2ca6aa2d009c"
   },
   "outputs": [
    {
     "data": {
      "text/html": [
       "<div>\n",
       "<style scoped>\n",
       "    .dataframe tbody tr th:only-of-type {\n",
       "        vertical-align: middle;\n",
       "    }\n",
       "\n",
       "    .dataframe tbody tr th {\n",
       "        vertical-align: top;\n",
       "    }\n",
       "\n",
       "    .dataframe thead th {\n",
       "        text-align: right;\n",
       "    }\n",
       "</style>\n",
       "<table border=\"1\" class=\"dataframe\">\n",
       "  <thead>\n",
       "    <tr style=\"text-align: right;\">\n",
       "      <th></th>\n",
       "      <th>text</th>\n",
       "      <th>label</th>\n",
       "    </tr>\n",
       "  </thead>\n",
       "  <tbody>\n",
       "    <tr>\n",
       "      <th>0</th>\n",
       "      <td>มึงกล้าพูดรึป่าวว่าระบบการศึกษามันดีอ่ะ ถุ้ยเฟ...</td>\n",
       "      <td>neg</td>\n",
       "    </tr>\n",
       "    <tr>\n",
       "      <th>1</th>\n",
       "      <td>เบื่อเวลามาโพสตไรแบบนี้ชอบเป็นพวกที่ใช่โปรไฟล์...</td>\n",
       "      <td>neg</td>\n",
       "    </tr>\n",
       "    <tr>\n",
       "      <th>2</th>\n",
       "      <td>พ่อมึงเป็นติ่งรัฐบาลหรอสัส ที่เรียกเก็บตังแพงม...</td>\n",
       "      <td>neg</td>\n",
       "    </tr>\n",
       "    <tr>\n",
       "      <th>3</th>\n",
       "      <td>ใครก็ช่วยลบไอ้นี้ออกจากกลุ่มหน่อยครับ มันมาโพส...</td>\n",
       "      <td>neg</td>\n",
       "    </tr>\n",
       "    <tr>\n",
       "      <th>4</th>\n",
       "      <td>เครียดมากอะตอนนี้</td>\n",
       "      <td>neg</td>\n",
       "    </tr>\n",
       "  </tbody>\n",
       "</table>\n",
       "</div>"
      ],
      "text/plain": [
       "                                                text label\n",
       "0  มึงกล้าพูดรึป่าวว่าระบบการศึกษามันดีอ่ะ ถุ้ยเฟ...   neg\n",
       "1  เบื่อเวลามาโพสตไรแบบนี้ชอบเป็นพวกที่ใช่โปรไฟล์...   neg\n",
       "2  พ่อมึงเป็นติ่งรัฐบาลหรอสัส ที่เรียกเก็บตังแพงม...   neg\n",
       "3  ใครก็ช่วยลบไอ้นี้ออกจากกลุ่มหน่อยครับ มันมาโพส...   neg\n",
       "4                                  เครียดมากอะตอนนี้   neg"
      ]
     },
     "execution_count": 2,
     "metadata": {},
     "output_type": "execute_result"
    }
   ],
   "source": [
    "df = pd.read_csv(\n",
    "    \"C:/Users/thatt/OneDrive/Documents/Coding Project/MyPyhtonLearn/class/Project/nlp/text_classification/data/tcas61.csv\",\n",
    "    encoding=\"utf-8\",\n",
    ")\n",
    "df.head()"
   ]
  },
  {
   "cell_type": "code",
   "execution_count": 3,
   "metadata": {
    "colab": {
     "base_uri": "https://localhost:8080/"
    },
    "executionInfo": {
     "elapsed": 609,
     "status": "ok",
     "timestamp": 1729756038100,
     "user": {
      "displayName": "ธรรศ บุนนาค",
      "userId": "10254962030361458836"
     },
     "user_tz": -420
    },
    "id": "5h4opwYDZxQm",
    "outputId": "de7fd0ba-3e06-431f-dc64-c65baf486bc1"
   },
   "outputs": [
    {
     "name": "stdout",
     "output_type": "stream",
     "text": [
      "นี่เสียกำลังใจเยอะแล้ว 😢\n",
      "พี่เป็นกำลังใจให้กับทุกคนเลย สู้ๆ\n",
      "ดีใจด้วยทุกคน\n",
      "ชีวิตจะสำเร็จอยู่ที่ความพยายาม เข้มแข็งเดินทางที่ถูกอะไรก้อเกิดขึ้นได้ สู้ๆนะคะ\n",
      "ขอบคุณทุกกำลังใจนะคะ จะพยายามทำปัจจุบันให้ดีที่สุด\n"
     ]
    }
   ],
   "source": [
    "for data in df[\"text\"][10:15]:\n",
    "    print(data)  # ลองดูแบบเต็มๆ"
   ]
  },
  {
   "cell_type": "markdown",
   "metadata": {
    "id": "cyf-7ZxfZxQm"
   },
   "source": [
    "### วิเคราะห์ข้อมูล"
   ]
  },
  {
   "cell_type": "code",
   "execution_count": 4,
   "metadata": {
    "colab": {
     "base_uri": "https://localhost:8080/"
    },
    "executionInfo": {
     "elapsed": 359,
     "status": "ok",
     "timestamp": 1729756039790,
     "user": {
      "displayName": "ธรรศ บุนนาค",
      "userId": "10254962030361458836"
     },
     "user_tz": -420
    },
    "id": "_fuy9fFzZxQn",
    "outputId": "6c899a28-aa7f-4ae0-c9e8-62a61821a7cd"
   },
   "outputs": [
    {
     "data": {
      "text/plain": [
       "(123, 2)"
      ]
     },
     "execution_count": 4,
     "metadata": {},
     "output_type": "execute_result"
    }
   ],
   "source": [
    "df.shape  # ยาวกี่แถว มีกี่คอลัมน์"
   ]
  },
  {
   "cell_type": "code",
   "execution_count": 5,
   "metadata": {
    "colab": {
     "base_uri": "https://localhost:8080/"
    },
    "executionInfo": {
     "elapsed": 466,
     "status": "ok",
     "timestamp": 1729756042467,
     "user": {
      "displayName": "ธรรศ บุนนาค",
      "userId": "10254962030361458836"
     },
     "user_tz": -420
    },
    "id": "Tdoy8GFuZxQn",
    "outputId": "cc106f6e-4556-43f2-e88d-f8ee043912f6"
   },
   "outputs": [
    {
     "data": {
      "text/plain": [
       "array(['neg', 'pos'], dtype=object)"
      ]
     },
     "execution_count": 5,
     "metadata": {},
     "output_type": "execute_result"
    }
   ],
   "source": [
    "df[\"label\"].unique()  # เช็คว่ามี Class อะไรบ้าง"
   ]
  },
  {
   "cell_type": "code",
   "execution_count": 6,
   "metadata": {
    "colab": {
     "base_uri": "https://localhost:8080/",
     "height": 447
    },
    "executionInfo": {
     "elapsed": 1035,
     "status": "ok",
     "timestamp": 1729756045486,
     "user": {
      "displayName": "ธรรศ บุนนาค",
      "userId": "10254962030361458836"
     },
     "user_tz": -420
    },
    "id": "x4eDs6dfZxQn",
    "outputId": "d48428a7-e0ad-4300-a2e5-62ea1c6f2d44"
   },
   "outputs": [
    {
     "data": {
      "text/plain": [
       "<BarContainer object of 2 artists>"
      ]
     },
     "execution_count": 6,
     "metadata": {},
     "output_type": "execute_result"
    },
    {
     "data": {
      "image/png": "[encoded data removed]",
      "text/plain": [
       "<Figure size 640x480 with 1 Axes>"
      ]
     },
     "metadata": {},
     "output_type": "display_data"
    }
   ],
   "source": [
    "label = df[\"label\"].unique()\n",
    "positive = df[df[\"label\"] == label[0]]\n",
    "negative = df[df[\"label\"] == label[1]]\n",
    "\n",
    "plt.bar([label[0], label[1]], [len(positive), len(negative)])"
   ]
  },
  {
   "cell_type": "markdown",
   "metadata": {
    "id": "RDz2WeliZxQn"
   },
   "source": [
    "## ทำการ Vectorize ข้อมูล"
   ]
  },
  {
   "cell_type": "code",
   "execution_count": 7,
   "metadata": {
    "executionInfo": {
     "elapsed": 368,
     "status": "ok",
     "timestamp": 1729756048237,
     "user": {
      "displayName": "ธรรศ บุนนาค",
      "userId": "10254962030361458836"
     },
     "user_tz": -420
    },
    "id": "zMu2DBOaZxQn"
   },
   "outputs": [],
   "source": [
    "# แบ่งข้อมูลเป็น 2 ส่วน คือ ข้อมูลสำหรับ Train และ Test\n",
    "from sklearn.model_selection import train_test_split\n",
    "\n",
    "X_train, X_test, y_train, y_test = train_test_split(\n",
    "    df[\"text\"], df[\"label\"], test_size=0.30, random_state=0\n",
    ")"
   ]
  },
  {
   "cell_type": "code",
   "execution_count": 8,
   "metadata": {
    "colab": {
     "base_uri": "https://localhost:8080/"
    },
    "executionInfo": {
     "elapsed": 453,
     "status": "ok",
     "timestamp": 1729756050761,
     "user": {
      "displayName": "ธรรศ บุนนาค",
      "userId": "10254962030361458836"
     },
     "user_tz": -420
    },
    "id": "cuosIVaLZxQn",
    "outputId": "69c3b5d9-e1d6-40dc-fb65-a28953113499"
   },
   "outputs": [
    {
     "data": {
      "text/plain": [
       "['ทดสอบ', 'การ', 'ตัด', 'คำ', 'ภาษาไทย']"
      ]
     },
     "execution_count": 8,
     "metadata": {},
     "output_type": "execute_result"
    }
   ],
   "source": [
    "from pythainlp.tokenize import word_tokenize  # ตัวตัดคำภาษาไทย\n",
    "\n",
    "# ทดสอบการตัดคำ\n",
    "word_tokenize(\"ทดสอบการตัดคำภาษาไทย\")"
   ]
  },
  {
   "cell_type": "markdown",
   "metadata": {
    "id": "ETzZyF5UZxQn"
   },
   "source": [
    "#### สร้าง Vectorize ข้อมูล Feature (X) ด้วย Bag of Words"
   ]
  },
  {
   "cell_type": "code",
   "execution_count": 9,
   "metadata": {
    "colab": {
     "base_uri": "https://localhost:8080/"
    },
    "executionInfo": {
     "elapsed": 591,
     "status": "ok",
     "timestamp": 1729756052795,
     "user": {
      "displayName": "ธรรศ บุนนาค",
      "userId": "10254962030361458836"
     },
     "user_tz": -420
    },
    "id": "gMMPcgFAZxQo",
    "outputId": "c105db08-7b4f-4393-ccb0-0ba6c45acc8a"
   },
   "outputs": [
    {
     "name": "stdout",
     "output_type": "stream",
     "text": [
      "จำนวนคำทั้งหมดใน Bag of Words: 728\n",
      "[0, 0, 0, 0, 0, 0, 0, 0, 0, 0, 0, 0, 0, 0, 0, 0, 0, 0, 0, 0, 0, 0, 0, 0, 0, 0, 0, 0, 0, 0, 0, 0, 0, 0, 0, 0, 0, 0, 0, 0, 0, 0, 0, 0, 0, 0, 0, 0, 0, 0, 0, 0, 0, 0, 0, 0, 0, 0, 0, 0, 0, 0, 0, 0, 0, 0, 0, 0, 0, 0, 0, 0, 0, 0, 0, 0, 0, 0, 0, 0, 0, 0, 0, 0, 0, 0, 0, 0, 0, 0, 0, 0, 0, 0, 0, 0, 0, 0, 0, 0, 0, 0, 0, 0, 0, 0, 0, 0, 0, 0, 0, 0, 0, 0, 0, 0, 0, 0, 0, 0, 0, 0, 0, 0, 0, 0, 0, 0, 0, 0, 0, 0, 0, 0, 0, 0, 0, 0, 0, 0, 0, 0, 0, 0, 0, 0, 0, 0, 0, 0, 0, 0, 0, 0, 0, 0, 0, 0, 0, 0, 0, 0, 0, 0, 0, 0, 0, 0, 0, 0, 0, 0, 0, 0, 0, 0, 0, 0, 0, 0, 0, 0, 0, 0, 0, 0, 0, 0, 0, 0, 0, 0, 0, 0, 0, 0, 0, 0, 0, 0, 0, 0, 0, 0, 0, 0, 0, 0, 0, 0, 0, 0, 0, 0, 0, 0, 0, 0, 0, 0, 0, 0, 0, 0, 0, 0, 0, 0, 0, 0, 0, 0, 0, 0, 0, 0, 0, 0, 0, 0, 0, 0, 0, 0, 0, 0, 0, 0, 0, 0, 0, 0, 0, 0, 0, 0, 0, 0, 0, 0, 0, 0, 0, 0, 0, 0, 0, 0, 0, 0, 0, 0, 0, 0, 0, 0, 0, 0, 0, 0, 0, 0, 0, 0, 0, 0, 0, 0, 0, 0, 0, 0, 0, 0, 0, 0, 0, 0, 0, 0, 0, 0, 0, 0, 0, 0, 0, 0, 0, 0, 0, 0, 0, 0, 0, 0, 0, 0, 0, 0, 0, 0, 0, 0, 0, 0, 0, 0, 0, 0, 0, 0, 0, 0, 0, 0, 0, 0, 0, 0, 0, 0, 0, 0, 0, 0, 0, 0, 0, 0, 0, 0, 0, 0, 0, 0, 0, 0, 0, 0, 0, 0, 0, 0, 0, 0, 0, 0, 0, 0, 0, 0, 0, 0, 0, 0, 0, 0, 0, 0, 0, 0, 0, 0, 0, 0, 0, 0, 0, 0, 0, 0, 0, 0, 0, 0, 0, 0, 0, 0, 0, 0, 0, 0, 0, 0, 0, 0, 0, 0, 0, 0, 0, 0, 0, 0, 0, 0, 0, 0, 0, 0, 0, 0, 0, 0, 0, 0, 0, 0, 0, 0, 0, 0, 0, 0, 0, 0, 0, 0, 0, 0, 0, 0, 0, 0, 0, 0, 0, 0, 0, 0, 0, 0, 0, 0, 0, 0, 0, 0, 0, 0, 0, 0, 0, 0, 0, 0, 0, 0, 0, 0, 0, 0, 0, 0, 0, 0, 0, 0, 0, 0, 0, 0, 0, 0, 0, 0, 0, 0, 0, 0, 0, 0, 0, 0, 0, 0, 0, 0, 0, 0, 0, 0, 0, 0, 0, 0, 0, 0, 0, 0, 0, 0, 0, 0, 0, 0, 0, 0, 0, 0, 0, 0, 0, 0, 0, 0, 0, 0, 0, 0, 0, 0, 0, 0, 0, 0, 0, 0, 0, 0, 0, 0, 0, 0, 0, 0, 0, 0, 0, 0, 0, 0, 0, 0, 0, 0, 0, 0, 0, 0, 0, 0, 0, 0, 0, 0, 0, 0, 0, 0, 0, 0, 0, 0, 0, 0, 0, 0, 0, 0, 0, 0, 0, 0, 0, 0, 0, 0, 0, 0, 0, 0, 0, 0, 0, 0, 0, 0, 0, 0, 0, 0, 0, 0, 0, 0, 0, 0, 0, 0, 0, 0, 0, 0, 0, 0, 0, 0, 0, 0, 0, 0, 0, 0, 0, 0, 0, 0, 0, 0, 0, 0, 0, 0, 0, 0, 0, 0, 0, 0, 0, 0, 0, 0, 1, 0, 0, 0, 0, 0, 1, 0, 0, 0, 0, 0, 0, 0, 0, 0, 0, 0, 0, 0, 0, 0, 0, 0, 0, 0, 0, 0, 0, 0, 0, 0, 0, 0, 0, 0, 0, 0, 0, 0, 0, 0, 0, 0, 0, 0, 0, 0, 0, 0, 0, 0, 0, 0, 0, 0, 0, 0, 0, 0, 0, 0, 0, 0, 0, 0, 0, 0, 0, 0, 0, 0, 0, 0, 0, 0, 0, 0, 0, 0, 0, 1]\n"
     ]
    }
   ],
   "source": [
    "# เราจะทำการลองสร้าง Bag of Words ด้วยตัวเอง\n",
    "all_words = []\n",
    "for sentence in X_train:\n",
    "    all_words.extend(word_tokenize(sentence))  # ตัดคำแล้วเก็บคำทั้งหมดไว้ใน all_words\n",
    "\n",
    "# ทำใ้ห้คำซ้ำไม่เกิดขึ้น ด้วยการแปลงเป็น set แล้วกลับมาเป็น list อีกครั้ง\n",
    "all_words = list(set(all_words))\n",
    "print(\"จำนวนคำทั้งหมดใน Bag of Words:\", len(all_words))\n",
    "\n",
    "\n",
    "def encode_words(text):  # สร้างฟังก์ชันสำหรับ encode คำให้เป็น Bag of Words\n",
    "    words = word_tokenize(text)  # ตัดคำในประโยค เพื่อเปรียบเทียบกับ Bag of Words\n",
    "    encoded_words = []\n",
    "    for word in all_words:  # วนลูปเช็คคำที่อยู่ใน Bag of Words\n",
    "        if word in words:  # ถ้าคำใน Bag of Words อยู่ในประโยค\n",
    "            encoded_words.append(1)  # เพิ่มค่า 1 ใน list\n",
    "        else:  # ถ้าคำใน Bag of Words ไม่อยู่ในประโยค\n",
    "            encoded_words.append(0)  # เพิ่มค่า 0 ใน list\n",
    "    return encoded_words  # ส่งค่ากลับเป็น list ของคำที่ถูก encode แล้ว ex. [0, 1, 0, 1, 0, 0, 0, 0, 0, 0]\n",
    "\n",
    "\n",
    "# ทดสอบการทำงานของฟังก์ชัน encode_words\n",
    "print(encode_words(\"ทดสอบการตัดคำภาษาไทย\"))"
   ]
  },
  {
   "cell_type": "markdown",
   "metadata": {
    "id": "8Vw8xG-eZxQo"
   },
   "source": [
    "#### สร้าง Vectorize ข้อมูล Label (Y)"
   ]
  },
  {
   "cell_type": "code",
   "execution_count": 10,
   "metadata": {
    "colab": {
     "base_uri": "https://localhost:8080/"
    },
    "executionInfo": {
     "elapsed": 2,
     "status": "ok",
     "timestamp": 1729756055516,
     "user": {
      "displayName": "ธรรศ บุนนาค",
      "userId": "10254962030361458836"
     },
     "user_tz": -420
    },
    "id": "5VruZEt_ZxQo",
    "outputId": "5753a31b-a464-4c8c-980a-d05dfe7ac516"
   },
   "outputs": [
    {
     "data": {
      "text/plain": [
       "array(['neg', 'pos'], dtype=object)"
      ]
     },
     "execution_count": 10,
     "metadata": {},
     "output_type": "execute_result"
    }
   ],
   "source": [
    "df[\"label\"].unique()"
   ]
  },
  {
   "cell_type": "code",
   "execution_count": 11,
   "metadata": {
    "colab": {
     "base_uri": "https://localhost:8080/"
    },
    "executionInfo": {
     "elapsed": 332,
     "status": "ok",
     "timestamp": 1729756057018,
     "user": {
      "displayName": "ธรรศ บุนนาค",
      "userId": "10254962030361458836"
     },
     "user_tz": -420
    },
    "id": "eyb3JVI1ZxQo",
    "outputId": "7094ebdf-9ff6-44a7-9335-dbddf0df8c35"
   },
   "outputs": [
    {
     "name": "stdout",
     "output_type": "stream",
     "text": [
      "1\n",
      "pos\n",
      "ดูดีๆนะว่า Encoder เราตรงกับ Decoder ไหม แล้ว key กับ ['neg' 'pos'] ตรงกันไหม\n"
     ]
    }
   ],
   "source": [
    "label_encode = {\n",
    "    \"pos\": 1,\n",
    "    \"neg\": 0,\n",
    "}  # สร้าง dict สำหรับแปลง label ให้เป็นตัวเลข, ทำ Labels ของเราเป็นตัวเลขเพื่อให้โมเดลเรียนรู้ได้\n",
    "label_decode = {1: \"pos\", 0: \"neg\"}  # สร้าง dict สำหรับแปลงตัวเลขให้กลับเป็น label\n",
    "# ทดสอบการทำงานของ dict\n",
    "print(label_encode[df[\"label\"].unique()[1]])\n",
    "print(label_decode[1])\n",
    "print(\n",
    "    \"ดูดีๆนะว่า Encoder เราตรงกับ Decoder ไหม แล้ว key กับ\", df[\"label\"].unique(), \"ตรงกันไหม\"\n",
    ")"
   ]
  },
  {
   "cell_type": "markdown",
   "metadata": {
    "id": "wLUwuWfeZxQo"
   },
   "source": [
    "#### Vectorize ข้อมูลทั้งหมด (Train, Test)"
   ]
  },
  {
   "cell_type": "code",
   "execution_count": 12,
   "metadata": {
    "executionInfo": {
     "elapsed": 353,
     "status": "ok",
     "timestamp": 1729756060238,
     "user": {
      "displayName": "ธรรศ บุนนาค",
      "userId": "10254962030361458836"
     },
     "user_tz": -420
    },
    "id": "fsqLILhwZxQo"
   },
   "outputs": [],
   "source": [
    "X_train_encoded = [\n",
    "    encode_words(sentence) for sentence in X_train\n",
    "]  # ทำการ encode ข้อมูล Train\n",
    "X_test_encoded = [\n",
    "    encode_words(sentence) for sentence in X_test\n",
    "]  # ทำการ encode ข้อมูล Test\n",
    "y_train_encoded = [\n",
    "    label_encode[label] for label in y_train\n",
    "]  # ทำการ encode label ข้อมูล Train\n",
    "y_test_encoded = [\n",
    "    label_encode[label] for label in y_test\n",
    "]  # ทำการ encode label ข้อมูล Test\n",
    "# แปลงข้อมูลเป็น NumPy array\n",
    "X_train_encoded = np.array(X_train_encoded)\n",
    "X_test_encoded = np.array(X_test_encoded)\n",
    "y_train_encoded = np.array(y_train_encoded)\n",
    "y_test_encoded = np.array(y_test_encoded)"
   ]
  },
  {
   "cell_type": "code",
   "execution_count": 13,
   "metadata": {
    "colab": {
     "base_uri": "https://localhost:8080/"
    },
    "executionInfo": {
     "elapsed": 355,
     "status": "ok",
     "timestamp": 1729756064519,
     "user": {
      "displayName": "ธรรศ บุนนาค",
      "userId": "10254962030361458836"
     },
     "user_tz": -420
    },
    "id": "CTKoXQk6ZxQo",
    "outputId": "8a089c70-1a14-4564-f495-66817abaa8e9"
   },
   "outputs": [
    {
     "name": "stdout",
     "output_type": "stream",
     "text": [
      "(86, 728)\n",
      "(37, 728)\n",
      "(86,)\n",
      "(37,)\n"
     ]
    }
   ],
   "source": [
    "# ทดสอบการทำงานของการแปลงข้อมูลเป็น NumPy array\n",
    "print(X_train_encoded.shape)\n",
    "print(X_test_encoded.shape)\n",
    "print(y_train_encoded.shape)\n",
    "print(y_test_encoded.shape)"
   ]
  },
  {
   "cell_type": "markdown",
   "metadata": {
    "id": "Ud8qwgXiZxQo"
   },
   "source": [
    "### เริ่มสร้างโมเดล"
   ]
  },
  {
   "cell_type": "code",
   "execution_count": 14,
   "metadata": {
    "colab": {
     "base_uri": "https://localhost:8080/"
    },
    "executionInfo": {
     "elapsed": 500,
     "status": "ok",
     "timestamp": 1729756066735,
     "user": {
      "displayName": "ธรรศ บุนนาค",
      "userId": "10254962030361458836"
     },
     "user_tz": -420
    },
    "id": "qXV1WZXEZxQo",
    "outputId": "9d8b88f4-69b6-4277-9eb0-a21bdffad3b1"
   },
   "outputs": [
    {
     "name": "stdout",
     "output_type": "stream",
     "text": [
      "อ่าว เสร็จแล้ว...\n"
     ]
    }
   ],
   "source": [
    "from sklearn.linear_model import LogisticRegression  # นำเข้าโมเดล Logistic Regression\n",
    "\n",
    "model = LogisticRegression()  # สร้างโมเดล\n",
    "model.fit(X_train_encoded, y_train_encoded)  # สร้างโมเดล\n",
    "print(\"อ่าว เสร็จแล้ว...\")"
   ]
  },
  {
   "cell_type": "markdown",
   "metadata": {
    "id": "MBsrbQlRZxQo"
   },
   "source": [
    "### วัดผลโมเดล ด้วย Classification Report และ Confusion Matrix"
   ]
  },
  {
   "cell_type": "code",
   "execution_count": 15,
   "metadata": {
    "colab": {
     "base_uri": "https://localhost:8080/"
    },
    "executionInfo": {
     "elapsed": 351,
     "status": "ok",
     "timestamp": 1729756068985,
     "user": {
      "displayName": "ธรรศ บุนนาค",
      "userId": "10254962030361458836"
     },
     "user_tz": -420
    },
    "id": "PAuGciVFZxQo",
    "outputId": "439d0bc3-8af8-49c0-cc38-747ba9eeaab3"
   },
   "outputs": [
    {
     "data": {
      "text/plain": [
       "array([0, 1, 0, 0, 0, 0, 0, 0, 1, 1, 1, 0, 0, 0, 0, 0, 1, 0, 0, 1, 0, 0,\n",
       "       0, 1, 0, 1, 1, 0, 0, 1, 0, 0, 1, 0, 0, 0, 0])"
      ]
     },
     "execution_count": 15,
     "metadata": {},
     "output_type": "execute_result"
    }
   ],
   "source": [
    "y_pred = model.predict(X_test_encoded)  # ทำนายผล บนข้อมูล Test\n",
    "y_pred  # ผลลัพธ์ที่ได้จากการทำนาย"
   ]
  },
  {
   "cell_type": "code",
   "execution_count": 16,
   "metadata": {
    "colab": {
     "base_uri": "https://localhost:8080/",
     "height": 673
    },
    "executionInfo": {
     "elapsed": 418,
     "status": "ok",
     "timestamp": 1729756070552,
     "user": {
      "displayName": "ธรรศ บุนนาค",
      "userId": "10254962030361458836"
     },
     "user_tz": -420
    },
    "id": "E7ioCXepZxQo",
    "outputId": "d7c48d50-5760-4cef-cfdc-c78d2f4230b8"
   },
   "outputs": [
    {
     "name": "stdout",
     "output_type": "stream",
     "text": [
      "Accuracy: 0.918918918918919\n",
      "Classification Report:\n",
      "               precision    recall  f1-score   support\n",
      "\n",
      "           0       0.92      0.96      0.94        25\n",
      "           1       0.91      0.83      0.87        12\n",
      "\n",
      "    accuracy                           0.92        37\n",
      "   macro avg       0.92      0.90      0.91        37\n",
      "weighted avg       0.92      0.92      0.92        37\n",
      "\n",
      "Confusion Matrix:\n",
      "0 คือ neg 1 คือ pos\n"
     ]
    },
    {
     "data": {
      "text/plain": [
       "<Axes: >"
      ]
     },
     "execution_count": 16,
     "metadata": {},
     "output_type": "execute_result"
    },
    {
     "data": {
      "image/png": "[encoded data removed]",
      "text/plain": [
       "<Figure size 640x480 with 2 Axes>"
      ]
     },
     "metadata": {},
     "output_type": "display_data"
    }
   ],
   "source": [
    "import seaborn as sns  # นำเข้า package seaborn เพื่อสร้าง Heatmap\n",
    "from sklearn.metrics import (\n",
    "    accuracy_score,\n",
    "    classification_report,\n",
    "    confusion_matrix,\n",
    ")  # นำเข้าฟังก์ชันที่ใช้ประเมินผล\n",
    "\n",
    "print(\"Accuracy:\", accuracy_score(y_test_encoded, y_pred))  # ประเมินผลโมเดล\n",
    "print(\n",
    "    \"Classification Report:\\n\", classification_report(y_test_encoded, y_pred)\n",
    ")  # แสดง Classification Report\n",
    "\n",
    "print(\"Confusion Matrix:\")\n",
    "print(\"0 คือ\", label_decode[0], \"1 คือ\", label_decode[1])\n",
    "sns.heatmap(\n",
    "    confusion_matrix(y_test_encoded, y_pred), annot=True, cmap=\"Blues\"\n",
    ")  # สร้าง Confusion Matrix แสดงความแม่นยำของโมเดล"
   ]
  },
  {
   "cell_type": "markdown",
   "metadata": {
    "id": "HGz9nNEIZxQp"
   },
   "source": [
    "### ลองเล่นโมเดลตัวเอง"
   ]
  },
  {
   "cell_type": "code",
   "execution_count": 18,
   "metadata": {
    "colab": {
     "base_uri": "https://localhost:8080/"
    },
    "executionInfo": {
     "elapsed": 414,
     "status": "ok",
     "timestamp": 1729756434169,
     "user": {
      "displayName": "ธรรศ บุนนาค",
      "userId": "10254962030361458836"
     },
     "user_tz": -420
    },
    "id": "yXavK5z6ZxQp",
    "outputId": "1dded59b-b69e-480b-b266-72a2f31c14f6"
   },
   "outputs": [
    {
     "name": "stdout",
     "output_type": "stream",
     "text": [
      "Text ที่ใช้ทดสอบ: ดีใจ\n",
      "This is a pos\n",
      "Wow! เราทำ AI สำเร็จแล้วนะ ดูดีๆนะว่าโมเดลเราทำนายถูกไหม\n"
     ]
    }
   ],
   "source": [
    "text = \"ดีใจ\"\n",
    "vector = encode_words(text)\n",
    "pred = model.predict([vector])[0]\n",
    "print(\"Text ที่ใช้ทดสอบ:\", text)\n",
    "print(\"This is a\", label_decode[pred])\n",
    "print(\"Wow! เราทำ AI สำเร็จแล้วนะ ดูดีๆนะว่าโมเดลเราทำนายถูกไหม\")"
   ]
  },
  {
   "cell_type": "code",
   "execution_count": 19,
   "metadata": {
    "colab": {
     "base_uri": "https://localhost:8080/",
     "height": 733
    },
    "executionInfo": {
     "elapsed": 363,
     "status": "ok",
     "timestamp": 1729756100835,
     "user": {
      "displayName": "ธรรศ บุนนาค",
      "userId": "10254962030361458836"
     },
     "user_tz": -420
    },
    "id": "xLRsIqFDZxQp",
    "outputId": "649ec360-a93c-4e1d-ef21-525d6ba9d268"
   },
   "outputs": [
    {
     "name": "stdout",
     "output_type": "stream",
     "text": [
      "              precision    recall  f1-score   support\n",
      "\n",
      "           0       0.00      0.00      0.00         1\n",
      "           1       0.93      1.00      0.97        14\n",
      "\n",
      "    accuracy                           0.93        15\n",
      "   macro avg       0.47      0.50      0.48        15\n",
      "weighted avg       0.87      0.93      0.90        15\n",
      "\n"
     ]
    },
    {
     "name": "stderr",
     "output_type": "stream",
     "text": [
      "c:\\Users\\thatt\\OneDrive\\Documents\\Coding Project\\MyPyhtonLearn\\.venv\\Lib\\site-packages\\sklearn\\metrics\\_classification.py:1531: UndefinedMetricWarning: Precision is ill-defined and being set to 0.0 in labels with no predicted samples. Use `zero_division` parameter to control this behavior.\n",
      "  _warn_prf(average, modifier, f\"{metric.capitalize()} is\", len(result))\n",
      "c:\\Users\\thatt\\OneDrive\\Documents\\Coding Project\\MyPyhtonLearn\\.venv\\Lib\\site-packages\\sklearn\\metrics\\_classification.py:1531: UndefinedMetricWarning: Precision is ill-defined and being set to 0.0 in labels with no predicted samples. Use `zero_division` parameter to control this behavior.\n",
      "  _warn_prf(average, modifier, f\"{metric.capitalize()} is\", len(result))\n",
      "c:\\Users\\thatt\\OneDrive\\Documents\\Coding Project\\MyPyhtonLearn\\.venv\\Lib\\site-packages\\sklearn\\metrics\\_classification.py:1531: UndefinedMetricWarning: Precision is ill-defined and being set to 0.0 in labels with no predicted samples. Use `zero_division` parameter to control this behavior.\n",
      "  _warn_prf(average, modifier, f\"{metric.capitalize()} is\", len(result))\n"
     ]
    },
    {
     "data": {
      "text/plain": [
       "<Axes: >"
      ]
     },
     "execution_count": 19,
     "metadata": {},
     "output_type": "execute_result"
    },
    {
     "data": {
      "image/png": "[encoded data removed]",
      "text/plain": [
       "<Figure size 640x480 with 2 Axes>"
      ]
     },
     "metadata": {},
     "output_type": "display_data"
    }
   ],
   "source": [
    "print(\n",
    "    classification_report(\n",
    "        [1, 1, 1, 1, 1, 1, 1, 1, 1, 1, 1, 1, 1, 1, 0],\n",
    "        [1, 1, 1, 1, 1, 1, 1, 1, 1, 1, 1, 1, 1, 1, 1],\n",
    "    )\n",
    ")\n",
    "sns.heatmap(\n",
    "    confusion_matrix(\n",
    "        [1, 1, 1, 1, 1, 1, 1, 1, 1, 1, 1, 1, 1, 1, 0],\n",
    "        [1, 1, 1, 1, 1, 1, 1, 1, 1, 1, 1, 1, 1, 1, 1],\n",
    "    ),\n",
    "    annot=True,\n",
    "    cmap=\"Blues\",\n",
    ")  # สร้าง Confusion Matrix แสดงความแม่นยำของโมเดล"
   ]
  }
 ],
 "metadata": {
  "colab": {
   "provenance": [
    {
     "file_id": "1Yo14E65qNs8KNmfjJTwMz5LgTZyZtCl1",
     "timestamp": 1729754514244
    }
   ]
  },
  "kernelspec": {
   "display_name": ".venv",
   "language": "python",
   "name": "python3"
  },
  "language_info": {
   "codemirror_mode": {
    "name": "ipython",
    "version": 3
   },
   "file_extension": ".py",
   "mimetype": "text/x-python",
   "name": "python",
   "nbconvert_exporter": "python",
   "pygments_lexer": "ipython3",
   "version": "3.12.8"
  }
 },
 "nbformat": 4,
 "nbformat_minor": 0
}
