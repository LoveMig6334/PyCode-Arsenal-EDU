{
 "cells": [
  {
   "cell_type": "markdown",
   "metadata": {
    "id": "Oipw3KedqOTw"
   },
   "source": [
    "![An image](https://miro.medium.com/max/720/1*haUJ7elh9B4MoCqNmhtPgg.png)"
   ]
  },
  {
   "cell_type": "markdown",
   "metadata": {
    "id": "ThNg5P_XfX0C"
   },
   "source": [
    "# Introduction to Panda เอ้ย Pandas\n",
    "\n",
    "\n",
    "---\n",
    "\n",
    "Pandas หนึ่งใน Python Package ที่เป็นที่นิยมสำหรับวงการ Data Science โดยมีข้อดีในการทำ Data Manipulation และ Data Analysis ได้โดยง่าย"
   ]
  },
  {
   "cell_type": "markdown",
   "metadata": {
    "id": "P6gtcNcplna9"
   },
   "source": [
    "##Importing Pandas into this notebook\n",
    "\n",
    "\n",
    "\n",
    "\n",
    "<h4>อย่างแรกเราก็ต้องทำการนำเรียกตัว Package ให้พร้อมใช้งานก่อน"
   ]
  },
  {
   "cell_type": "code",
   "execution_count": 1,
   "metadata": {
    "id": "KSh0Worcn2ta"
   },
   "outputs": [],
   "source": [
    "import pandas as pd"
   ]
  },
  {
   "cell_type": "markdown",
   "metadata": {
    "id": "wV82z-A0oQta"
   },
   "source": [
    "<h2>งั้นเราก็มาเริ่มกันเลยดีกว่า!!!!"
   ]
  },
  {
   "cell_type": "markdown",
   "metadata": {
    "id": "oDh_0ULgnQzQ"
   },
   "source": [
    "# 1. Pandas Data Structures\n"
   ]
  },
  {
   "cell_type": "markdown",
   "metadata": {
    "id": "6yKjzXli0W51"
   },
   "source": [
    "## Series\n",
    "\n",
    "---\n",
    "การจัดเก็บข้อมูลอยู่ในรูปของ array 1 มิติ หรือง่ายๆก็คือ 1 column นั้นแหละ\n"
   ]
  },
  {
   "cell_type": "code",
   "execution_count": null,
   "metadata": {
    "id": "PsLdE5kC0WjU"
   },
   "outputs": [],
   "source": [
    "ser = pd.Series([5, 10, 15])"
   ]
  },
  {
   "cell_type": "code",
   "execution_count": null,
   "metadata": {
    "colab": {
     "base_uri": "https://localhost:8080/"
    },
    "id": "vZOnByphnL4w",
    "outputId": "d2befc47-e453-4a84-8168-bbc762b3bd17"
   },
   "outputs": [],
   "source": [
    "print(\"Data dimension: \", ser.ndim)  # ใช้.ndim ในการเช็คขนาดมิติ\n",
    "print(\"Data shape: \", ser.shape)  # ใช้.shapeในการดูรูบทรงของข้อมูล"
   ]
  },
  {
   "cell_type": "code",
   "execution_count": null,
   "metadata": {
    "colab": {
     "base_uri": "https://localhost:8080/",
     "height": 178
    },
    "id": "qRhjAjLcnZfb",
    "outputId": "a92c2517-b5e0-43d1-f19f-7b3617df4db0"
   },
   "outputs": [],
   "source": [
    "ser  # พูดง่ายๆ มันคือการสร้างออกมาคอลลัมน์นึงนั่นแหละ"
   ]
  },
  {
   "cell_type": "markdown",
   "metadata": {
    "id": "qftoHJm4o5Vp"
   },
   "source": [
    "\n",
    "\n",
    "---\n",
    "\n",
    "\n",
    "ถ้าจะให้เทียบตัวอย่างง่ายๆก็จะคล้ายๆใน Excel เลยจร้า"
   ]
  },
  {
   "cell_type": "markdown",
   "metadata": {
    "id": "SwwuWVgvoSRq"
   },
   "source": [
    "![excel.png](data:image/png;base64,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)\n"
   ]
  },
  {
   "cell_type": "markdown",
   "metadata": {
    "id": "ViQAKwMIpqy8"
   },
   "source": [
    "## Dataframe\n",
    "\n",
    "---\n",
    "\n"
   ]
  },
  {
   "cell_type": "markdown",
   "metadata": {
    "id": "m1RQSJcEp2pX"
   },
   "source": [
    "พูดง่ายๆมันก็คือseriesหลายๆอันรวมกันกลายเป็นตารางนั่นแหละ หน้าตาเหมือนตารางในexcelเป๊ะเลย โดยมีแถวกับคอลลัมน์ ซึ่งคอลลัมน์ก็ยังตั้งชื่อได้ด้วย"
   ]
  },
  {
   "cell_type": "code",
   "execution_count": null,
   "metadata": {
    "id": "MkUvpqpuqJ5e"
   },
   "outputs": [],
   "source": [
    "dfcollumn = [[\"firstname\", \"surname\", \"age\"]]  # ตั้งเพื่อให้อ่านง่ายๆ ก็ตั้งชื่อคอลลัมน์ขึ้นมาก่อน"
   ]
  },
  {
   "cell_type": "code",
   "execution_count": null,
   "metadata": {
    "id": "Mh-8Pql1qTH_"
   },
   "outputs": [],
   "source": [
    "dfval = [\n",
    "    [\"tanakrit\", \"saiphan\", 17],\n",
    "    [\"nayos\", \"suwatano\", 18],\n",
    "    [\"pannathorn\", \"krudthong\", 18],\n",
    "]  # ตารางมันก็ต้องมีข้อมูล ซึ่งข้อมูลแบบตารางมันก็คือmatrixนั่นแหละ"
   ]
  },
  {
   "cell_type": "markdown",
   "metadata": {
    "id": "khxBdn4Tqzl6"
   },
   "source": [
    "จากนั้นเราก็กำหดให้ชื่collumn = ตัวแปร dfcollumn ที่ประกาศไว้ ส่วนข้อมูลของตารางก็เอามาจากตัวแปรdfval เพื่อสร้างdataframe"
   ]
  },
  {
   "cell_type": "code",
   "execution_count": null,
   "metadata": {
    "id": "HTZB6-dvnokT"
   },
   "outputs": [],
   "source": [
    "df = pd.DataFrame(columns=dfcollumn, data=dfval)  # วิธีสร้าง dataframe"
   ]
  },
  {
   "cell_type": "code",
   "execution_count": null,
   "metadata": {
    "colab": {
     "base_uri": "https://localhost:8080/",
     "height": 143
    },
    "id": "ExUC7g1PplJg",
    "outputId": "67927af5-fb55-4b12-e660-7195ad9b7cd1"
   },
   "outputs": [],
   "source": [
    "df  # ลองเรียกใช้ดูหน่อย"
   ]
  },
  {
   "cell_type": "markdown",
   "metadata": {
    "id": "2CN-xw82rA6O"
   },
   "source": [
    "ก็จะออกมาเป็นตารางสวยๆแบบนี้เลย ซึ่งเหมือนexcelเป๊ะ"
   ]
  },
  {
   "cell_type": "code",
   "execution_count": null,
   "metadata": {
    "id": "hFRN-NABxmyX"
   },
   "outputs": [],
   "source": [
    "# เสริมเฉยๆ ว่าเราสามารถทำ dataframe กำหนดชื่อและข้อมูลของคอลลัมน์พร้อมๆกันได้เช่นกัน\n",
    "\n",
    "data = {\n",
    "    \"firstname\": [\"tanakrit\", \"mikey\", \"pannathorn\"],\n",
    "    \"surname\": [\"saiphan\", \"suwatano\", \"krudthong\"],\n",
    "    \"age\": [17, 18, 18],\n",
    "}\n",
    "\n",
    "df = pd.DataFrame(data)"
   ]
  },
  {
   "cell_type": "code",
   "execution_count": null,
   "metadata": {
    "colab": {
     "base_uri": "https://localhost:8080/",
     "height": 143
    },
    "id": "r9O20QGCzRFl",
    "outputId": "96a8e9c0-ee4c-4a46-a348-3ef4e87478a9"
   },
   "outputs": [],
   "source": [
    "df  # ลองเทียบกับข้างบนดูเหมือนกันใช่ม้าาาา"
   ]
  },
  {
   "cell_type": "markdown",
   "metadata": {
    "id": "qeo2tMzArQZ8"
   },
   "source": [
    "# 2. Read dataframe\n",
    "\n",
    "---\n",
    "\n",
    "# New Section"
   ]
  },
  {
   "cell_type": "markdown",
   "metadata": {
    "id": "Mf1nK2Aarr70"
   },
   "source": [
    "โดยปกติเราก็ไม่ค่อยสร้าง Dataframe เองหรอก การใช้ Pandas ส่วนใหญ่ใช้กับการอ่านตารางเข้ามาแล้วก็เอามาประมวลผลดูมากกว่า ซึ่งไฟล์ที่ Pandas สามรถอ่านได้ก็มีตั้งแแต่ CSV, JSON, Excel, etc. [หากอยากดูเพิ่มเติมก็กดตรงนี้เน้อ](https://pandas.pydata.org/pandas-docs/stable/user_guide/io.html)"
   ]
  },
  {
   "cell_type": "code",
   "execution_count": null,
   "metadata": {
    "id": "jsZib8U6plUx"
   },
   "outputs": [],
   "source": [
    "# ใช้คำสั่งread csv เพื่อรับข้อมูลตารางเข้ามา\n",
    "df = pd.read_csv(\n",
    "    \"https://raw.githubusercontent.com/datasciencedojo/datasets/refs/heads/master/titanic.csv\"\n",
    ")"
   ]
  },
  {
   "cell_type": "markdown",
   "metadata": {
    "id": "70YORFDWsFrj"
   },
   "source": [
    "csv มันก็มีหน้าตาเหมือนexcelเลย"
   ]
  },
  {
   "cell_type": "code",
   "execution_count": null,
   "metadata": {
    "colab": {
     "base_uri": "https://localhost:8080/",
     "height": 947
    },
    "id": "1SnyKONosJn7",
    "outputId": "83f439e3-7d70-4d02-bf55-2065a23f185c"
   },
   "outputs": [],
   "source": [
    "df  # เรียกออกมาดูซะหน่อย"
   ]
  },
  {
   "cell_type": "markdown",
   "metadata": {
    "id": "BHGnJ1nZsS7c"
   },
   "source": [
    "มันสวยแต่มันเรียกข้อมูลออกมายาวไป ถ้าเราต้องการดูตัวอย่างข้อมูลสั้นๆ ให้ใช้ฟังก์ชั้น `.head()` ในการเรียก5แถวแรกออกมา"
   ]
  },
  {
   "cell_type": "code",
   "execution_count": null,
   "metadata": {
    "colab": {
     "base_uri": "https://localhost:8080/",
     "height": 115
    },
    "id": "yyNEFEN3sMz5",
    "outputId": "fce97a5e-5a5f-4b91-96ae-ef4879107550"
   },
   "outputs": [],
   "source": [
    "df.head(1)  # ใส่1เข้าไปเพื่อเรียกเอาแถวแรกสุดจากด้านบนออกมา"
   ]
  },
  {
   "cell_type": "markdown",
   "metadata": {
    "id": "Xuq27ceW01pN"
   },
   "source": [
    "ในทางกลับกันหากเราใช้ฟังก์ชัน `.tail()` เราก็จะได้ 5 แถวหลังของชุดข้อมูลที่เราเรียกมา"
   ]
  },
  {
   "cell_type": "code",
   "execution_count": null,
   "metadata": {
    "colab": {
     "base_uri": "https://localhost:8080/",
     "height": 181
    },
    "id": "3Ul-vt3wsgcQ",
    "outputId": "b69dcad1-dbf7-4108-c89d-f114f6d1f8ab"
   },
   "outputs": [],
   "source": [
    "df.tail(2)  # ใส่2เข้าไปเพื่อเรียกเอาแถวแรกสุด2แถวจากด้านล่างออกมา"
   ]
  },
  {
   "cell_type": "code",
   "execution_count": null,
   "metadata": {
    "colab": {
     "base_uri": "https://localhost:8080/",
     "height": 236
    },
    "id": "XRDSUxc62T8M",
    "outputId": "2185f772-fa53-45ab-ae15-34e06b2f6f38"
   },
   "outputs": [],
   "source": [
    "df.sample(2)  # ใส่2เข้าไปเพื่อสุ่มเรียกค่าจากตรารางออกมาสองแถว"
   ]
  },
  {
   "cell_type": "code",
   "execution_count": null,
   "metadata": {
    "colab": {
     "base_uri": "https://localhost:8080/"
    },
    "id": "dholY2jj2moB",
    "outputId": "3000c6ed-ca99-470a-d44a-00d1501b29fe"
   },
   "outputs": [],
   "source": [
    "df.info()  # ใช้คำสั่งinfoเพื่อเรียกดูข้อมูลในตารางว่ามีอะไรบ้าง มีค่าหายไหม มีข้อมูลประเภทใดบ้าง"
   ]
  },
  {
   "cell_type": "markdown",
   "metadata": {
    "id": "xOvoefGU-Hit"
   },
   "source": [
    "# 3. Selecting Data by Position or Label\n",
    "\n",
    "---\n",
    "\n"
   ]
  },
  {
   "cell_type": "markdown",
   "metadata": {
    "id": "MVqPNTFU-x5l"
   },
   "source": [
    "### Getting"
   ]
  },
  {
   "cell_type": "markdown",
   "metadata": {
    "id": "gyDmJjEu_Dqc"
   },
   "source": [
    "เลือกมาเป็น element"
   ]
  },
  {
   "cell_type": "code",
   "execution_count": null,
   "metadata": {
    "colab": {
     "base_uri": "https://localhost:8080/",
     "height": 178
    },
    "id": "Iu8JcazbB572",
    "outputId": "d870757d-0308-4b06-a2a2-d661a730c84c"
   },
   "outputs": [],
   "source": [
    "ser  # เรียก series ที่ชื่อser ออกมาดู"
   ]
  },
  {
   "cell_type": "code",
   "execution_count": null,
   "metadata": {
    "colab": {
     "base_uri": "https://localhost:8080/"
    },
    "id": "fVV1dslY-GmO",
    "outputId": "da2fae17-336d-41c9-a180-d87011f7eef3"
   },
   "outputs": [],
   "source": [
    "ser[1]  # เรียกดูค่าแรก"
   ]
  },
  {
   "cell_type": "code",
   "execution_count": null,
   "metadata": {
    "colab": {
     "base_uri": "https://localhost:8080/",
     "height": 147
    },
    "id": "WNq_Nd2bB_Vc",
    "outputId": "18347d9e-1836-47c6-b679-c033b9bd264f"
   },
   "outputs": [],
   "source": [
    "ser[0:2]  # เรียกออกมาเป็นช่วง"
   ]
  },
  {
   "cell_type": "markdown",
   "metadata": {
    "id": "5YsJCkhu_JWY"
   },
   "source": [
    "เลือก subset ของ Dataframe"
   ]
  },
  {
   "cell_type": "code",
   "execution_count": null,
   "metadata": {
    "colab": {
     "base_uri": "https://localhost:8080/",
     "height": 351
    },
    "id": "4oNSKjk2-YNy",
    "outputId": "c72afd92-5dda-4d85-9167-ec003e293fc5"
   },
   "outputs": [],
   "source": [
    "df[56:60]  # เรียกดูตารางออกมาเป็นช่วงๆ"
   ]
  },
  {
   "cell_type": "markdown",
   "metadata": {
    "id": "okQQDaMJ_Rib"
   },
   "source": [
    "### Selecting"
   ]
  },
  {
   "cell_type": "markdown",
   "metadata": {
    "id": "BcSIhv6E_Ukt"
   },
   "source": [
    "เลือกโดย Position: เป็นการเลือก single value โดยแถวและคอลัมน์"
   ]
  },
  {
   "cell_type": "code",
   "execution_count": null,
   "metadata": {
    "colab": {
     "base_uri": "https://localhost:8080/",
     "height": 504
    },
    "id": "QjT2eIJkCyyZ",
    "outputId": "74e77165-5353-468f-8d80-65146b2b1c0c"
   },
   "outputs": [],
   "source": [
    "df.head()"
   ]
  },
  {
   "cell_type": "markdown",
   "metadata": {
    "id": "AUhLXTvtE3Zu"
   },
   "source": [
    "ดูค่าผ่านคำสั่งiloc และ iat ในการเรียกค่าจากตารางออกมาผ่านindex"
   ]
  },
  {
   "cell_type": "code",
   "execution_count": null,
   "metadata": {
    "colab": {
     "base_uri": "https://localhost:8080/",
     "height": 36
    },
    "id": "AOuIfxsP_q9q",
    "outputId": "88d3787c-404f-4301-ed92-04c562cf50f5"
   },
   "outputs": [],
   "source": [
    "df.iloc[0, 3]  # เรียกหาแถวที0ตัวที่3"
   ]
  },
  {
   "cell_type": "code",
   "execution_count": null,
   "metadata": {
    "colab": {
     "base_uri": "https://localhost:8080/",
     "height": 36
    },
    "id": "6EvWJER6A_jp",
    "outputId": "d19e6a97-012d-4b49-883c-7540a3a14918"
   },
   "outputs": [],
   "source": [
    "df.iloc[2, 8]  # เรียกหาแถวที2ตัวที่8"
   ]
  },
  {
   "cell_type": "code",
   "execution_count": null,
   "metadata": {
    "colab": {
     "base_uri": "https://localhost:8080/",
     "height": 36
    },
    "id": "GZ6uqoLl_40V",
    "outputId": "6aa7636b-cb9a-4f76-a654-78cf830b66d2"
   },
   "outputs": [],
   "source": [
    "df.iat[0, 3]  # เรียกหาแถวที0ตัวที่3 ต่างกันตรงที่ ilocระบุแค่แถวได้ แต่iatไม่"
   ]
  },
  {
   "cell_type": "markdown",
   "metadata": {
    "id": "RMecqqo-BbcN"
   },
   "source": [
    "เลือกโดย Label: เป็นการเลือก single value โดยแถวและคอลัมน์จาก labels"
   ]
  },
  {
   "cell_type": "code",
   "execution_count": null,
   "metadata": {
    "colab": {
     "base_uri": "https://localhost:8080/",
     "height": 504
    },
    "id": "pApwzlCeDtjd",
    "outputId": "61572ec3-65f7-4289-85a7-337ee2021eb4"
   },
   "outputs": [],
   "source": [
    "df.head()"
   ]
  },
  {
   "cell_type": "code",
   "execution_count": null,
   "metadata": {
    "colab": {
     "base_uri": "https://localhost:8080/",
     "height": 36
    },
    "id": "GPKv0uCCB3Gr",
    "outputId": "81bf6b26-bf50-42b8-b3dd-92eddc2147bc"
   },
   "outputs": [],
   "source": [
    "df.loc[0, \"Name\"]  # เรียกหาแถวที4ในคอลลัมน์ที่ชื่อว่า Age"
   ]
  },
  {
   "cell_type": "code",
   "execution_count": null,
   "metadata": {
    "colab": {
     "base_uri": "https://localhost:8080/",
     "height": 36
    },
    "id": "PjU-YZF_B6zD",
    "outputId": "589df181-2b5c-4d46-a4f4-aaf9b18fbe3b"
   },
   "outputs": [],
   "source": [
    "df.at[1, \"Name\"]  # เรียกหาแถวที1ในคอลลัมน์ที่ชื่อว่า Name"
   ]
  },
  {
   "cell_type": "markdown",
   "metadata": {
    "id": "41bsPWysE80n"
   },
   "source": [
    "เลือก subset ของ DataFrame"
   ]
  },
  {
   "cell_type": "code",
   "execution_count": null,
   "metadata": {
    "colab": {
     "base_uri": "https://localhost:8080/",
     "height": 460
    },
    "id": "TjnKj21oE90K",
    "outputId": "2c10792f-c484-440a-da7f-399b48468d1e"
   },
   "outputs": [],
   "source": [
    "df.iloc[0]  # เรียกหาแถวที0 ซึ่งจะแสดงค่าแต่ละคอลลัมน์ออกมา"
   ]
  },
  {
   "cell_type": "code",
   "execution_count": null,
   "metadata": {
    "colab": {
     "base_uri": "https://localhost:8080/",
     "height": 458
    },
    "id": "hPaJzdwtEWb-",
    "outputId": "ab5f2166-93f1-43ec-d2ff-42de385f0754"
   },
   "outputs": [],
   "source": [
    "df.iloc[:, 5]  # เรียกหทุกแถว แต่เอาแค่คอลลัมน์ที่5"
   ]
  },
  {
   "cell_type": "code",
   "execution_count": null,
   "metadata": {
    "colab": {
     "base_uri": "https://localhost:8080/",
     "height": 437
    },
    "id": "sPagBXHqzNIs",
    "outputId": "47bb78c9-6f19-4032-ae53-bb0211ebd0db"
   },
   "outputs": [],
   "source": [
    "df.iloc[0:4]  # เรียกหาแถวที0-3"
   ]
  },
  {
   "cell_type": "code",
   "execution_count": null,
   "metadata": {
    "colab": {
     "base_uri": "https://localhost:8080/",
     "height": 175
    },
    "id": "gkzhW1RoFAbV",
    "outputId": "08e389fa-c609-4dc1-8b4e-55992458cfba"
   },
   "outputs": [],
   "source": [
    "df.iloc[0:4, 0:4]  # เรียกหาแถวที0-3 แต่เอาเฉพาะคอลลัมน์ที่0-3"
   ]
  },
  {
   "cell_type": "code",
   "execution_count": null,
   "metadata": {
    "colab": {
     "base_uri": "https://localhost:8080/",
     "height": 112
    },
    "id": "ybRD_5i9FOLe",
    "outputId": "85d646e0-0388-44b3-ae8d-1939bc7d3963"
   },
   "outputs": [],
   "source": [
    "df.iloc[[0, 4], [0, 4]]  # เรียกเอาเฉพาะแถวที่0กับ4เท่านั้น และเอาแค่คอลลัมน์ที่0กับ4เช่นกัน"
   ]
  },
  {
   "cell_type": "code",
   "execution_count": null,
   "metadata": {
    "colab": {
     "base_uri": "https://localhost:8080/",
     "height": 504
    },
    "id": "JThadlxYx5T1",
    "outputId": "9146998a-f06e-425d-f22b-e837ca819075"
   },
   "outputs": [],
   "source": [
    "df.loc[0:4]  # เรียกหาแถวที0-3"
   ]
  },
  {
   "cell_type": "code",
   "execution_count": null,
   "metadata": {
    "colab": {
     "base_uri": "https://localhost:8080/",
     "height": 161
    },
    "id": "-6_j8C0gFcQm",
    "outputId": "c9739d43-0920-4bf1-f32d-0dca9290b6b1"
   },
   "outputs": [],
   "source": [
    "df.loc[0:2, \"PassengerId\":\"Age\"]  # เรียกหาแถวที0-2 เอาค่าเฉพาะคอลลัมน์ PassengerId ถึง Age"
   ]
  },
  {
   "cell_type": "code",
   "execution_count": null,
   "metadata": {
    "colab": {
     "base_uri": "https://localhost:8080/",
     "height": 206
    },
    "id": "GNL5-3JvFkvp",
    "outputId": "0d1bc4b5-52b8-494e-da89-1800bf7f99a1"
   },
   "outputs": [],
   "source": [
    "df.loc[\n",
    "    0:4, [\"PassengerId\", \"Age\"]\n",
    "]  # เรียกหาแถวที0กับ2 เอาค่าเฉพาะคอลลัมน์ PassengerId กับ Age"
   ]
  },
  {
   "cell_type": "markdown",
   "metadata": {
    "id": "gsI_zjw8GGlG"
   },
   "source": [
    "### Boolean Indexing"
   ]
  },
  {
   "cell_type": "markdown",
   "metadata": {
    "id": "Jeh5mclUGK-6"
   },
   "source": [
    "Series `ser` ที่มีค่าเท่ากับ 5"
   ]
  },
  {
   "cell_type": "code",
   "execution_count": null,
   "metadata": {
    "colab": {
     "base_uri": "https://localhost:8080/",
     "height": 178
    },
    "id": "NMnkiLEKGE-c",
    "outputId": "123786bb-f8af-4abc-d6f8-eec6dd5bc052"
   },
   "outputs": [],
   "source": [
    "ser == 5  # มันจะไปหาว่าในserมีตัวไหนเท่ากับ5บ้าง ถ้าตัวไหนใช่ก็จะคืนค่าTrue"
   ]
  },
  {
   "cell_type": "code",
   "execution_count": null,
   "metadata": {
    "colab": {
     "base_uri": "https://localhost:8080/",
     "height": 178
    },
    "id": "ujIDRkkTGKZK",
    "outputId": "6d1128aa-3ab1-4fe7-e77e-6fc24c88031c"
   },
   "outputs": [],
   "source": [
    "ser"
   ]
  },
  {
   "cell_type": "code",
   "execution_count": null,
   "metadata": {
    "colab": {
     "base_uri": "https://localhost:8080/",
     "height": 115
    },
    "id": "ShplHDq9GGX7",
    "outputId": "c4418802-a41c-499f-a179-96a5440d179a"
   },
   "outputs": [],
   "source": [
    "ser[ser == 5]  # หาค่าจากเงื่อนไขในseries"
   ]
  },
  {
   "cell_type": "markdown",
   "metadata": {
    "id": "VfPaj_S1GV5M"
   },
   "source": [
    "Series `ser` ที่มีค่าน้อยกว่า 15"
   ]
  },
  {
   "cell_type": "code",
   "execution_count": null,
   "metadata": {
    "colab": {
     "base_uri": "https://localhost:8080/",
     "height": 178
    },
    "id": "38Q77NURGdtE",
    "outputId": "0eab9629-2576-4229-ac19-050f6fbf2032"
   },
   "outputs": [],
   "source": [
    "ser < 15"
   ]
  },
  {
   "cell_type": "code",
   "execution_count": null,
   "metadata": {
    "colab": {
     "base_uri": "https://localhost:8080/",
     "height": 147
    },
    "id": "DPA5S6Y1GfHr",
    "outputId": "4c438420-1be1-4199-e569-107708907080"
   },
   "outputs": [],
   "source": [
    "ser[ser < 15]"
   ]
  },
  {
   "cell_type": "markdown",
   "metadata": {
    "id": "in717H_dGkTK"
   },
   "source": [
    "ผู้โดยสารที่เป็นผู้ชาย"
   ]
  },
  {
   "cell_type": "code",
   "execution_count": null,
   "metadata": {
    "colab": {
     "base_uri": "https://localhost:8080/",
     "height": 458
    },
    "id": "QYGdLYgWGpQi",
    "outputId": "799a6ead-cd90-4779-8b0a-1a1f8827f5a4"
   },
   "outputs": [],
   "source": [
    "df[\"Sex\"] == \"male\"  # เช็คว่ามีแถวไหนที่คอลลัมน์sexเท่ากับmaleบ้าง"
   ]
  },
  {
   "cell_type": "code",
   "execution_count": null,
   "metadata": {
    "colab": {
     "base_uri": "https://localhost:8080/",
     "height": 1000
    },
    "id": "PZfOMH1_Grt1",
    "outputId": "88d62243-612c-4249-f9c3-10e0946c7301"
   },
   "outputs": [],
   "source": [
    "df[df[\"Sex\"] == \"female\"]  # เรียกหาแถวที่ใช่ผ่านเงื่อนไข"
   ]
  },
  {
   "cell_type": "markdown",
   "metadata": {
    "id": "7vuAjNtZG5z3"
   },
   "source": [
    "#3. Aggregation\n",
    "\n",
    "---\n",
    "\n"
   ]
  },
  {
   "cell_type": "markdown",
   "metadata": {
    "id": "CPTVnuZ3HBQg"
   },
   "source": [
    "การ aggregate ข้อมูลในรูปแบบต่างๆ ไม่ว่าจะเป็นการหาค่าเฉลี่ย, ค่าที่มากที่สุด, ค่าที่น้อยที่สุด รวมถึงการหาค่าที่เกิดบ่อยที่สุดและอื่นๆอีกด้วย"
   ]
  },
  {
   "cell_type": "code",
   "execution_count": null,
   "metadata": {
    "id": "kGmpgcPU0m0D"
   },
   "outputs": [],
   "source": [
    "df2 = df[\n",
    "    [\"PassengerId\", \"Sex\", \"Age\", \"Ticket\", \"Fare\"]\n",
    "]  # เอาตารางมาทั้งตารางแต่เลือกเฉพาะคอลลัมน์ที่กำหนด"
   ]
  },
  {
   "cell_type": "code",
   "execution_count": null,
   "metadata": {
    "colab": {
     "base_uri": "https://localhost:8080/",
     "height": 206
    },
    "id": "SnusoK4w1Cak",
    "outputId": "776622e1-b694-405e-c0a5-5e4a66845dce"
   },
   "outputs": [],
   "source": [
    "df2.head()  # เรียกดูสักหน่อย"
   ]
  },
  {
   "cell_type": "code",
   "execution_count": null,
   "metadata": {
    "colab": {
     "base_uri": "https://localhost:8080/"
    },
    "id": "ha75ZPLN1Eib",
    "outputId": "93fd156a-54d1-46d6-a2ba-1798a07fa3b3"
   },
   "outputs": [],
   "source": [
    "df2.info()"
   ]
  },
  {
   "cell_type": "code",
   "execution_count": null,
   "metadata": {
    "colab": {
     "base_uri": "https://localhost:8080/",
     "height": 241
    },
    "id": "u1_n-uwX1G_T",
    "outputId": "deea5dbe-0d02-46a7-96dc-4810d95dcc5e"
   },
   "outputs": [],
   "source": [
    "df2.dtypes"
   ]
  },
  {
   "cell_type": "markdown",
   "metadata": {
    "id": "gUhclf6wHVyD"
   },
   "source": [
    "### Numerical Data"
   ]
  },
  {
   "cell_type": "markdown",
   "metadata": {
    "id": "bM0bGJePHfyS"
   },
   "source": [
    "ในการหา descriptive statistics เราสามารถใช้ function ที่ต้องการโดยตรงเลยหรือใช้ `describe()` ก็ได้ โดยใน `describe()` นั้น ก็จะมีบอกค่าทางสถิิติในรูปแบบต่างๆ ทั้ง ค่าเฉลี่ย, ส่วนเบี่ยงเบนมาตรฐาน, ค่าน้อยที่สุด, ค่ามากที่สุดและรวมถึงค่า percentile ต่างๆอีกด้วย"
   ]
  },
  {
   "cell_type": "code",
   "execution_count": null,
   "metadata": {
    "colab": {
     "base_uri": "https://localhost:8080/"
    },
    "id": "_oHlit0DHD0k",
    "outputId": "18aca18b-d7ce-47b2-d59d-3da1dae557db"
   },
   "outputs": [],
   "source": [
    "print(f\"Lowest sales price: {df2['Age'].min()}\")  # หาค่าที่น้อยที่สุดในคอลลัมน์age โดยใช้min()\n",
    "print(f\"Highest sales price: {df2['Age'].max()}\")  # หาค่าที่มากที่สุดในคอลลัมน์age โดยใช้max()\n",
    "print(f\"Average sales price: {df2['Age'].mean()}\")  # หาค่าที่เฉลี่ยในคอลลัมน์age โดยใช้mean()\n",
    "print(\n",
    "    f\"Median sales price: {df2['Age'].median()}\"\n",
    ")  # หาค่าที่มัธยฐานในคอลลัมน์age โดยใช้median()"
   ]
  },
  {
   "cell_type": "code",
   "execution_count": null,
   "metadata": {
    "colab": {
     "base_uri": "https://localhost:8080/",
     "height": 300
    },
    "id": "rTY1OXiKICUU",
    "outputId": "f62e62e8-7656-4646-d4e3-f7e8f4725e10"
   },
   "outputs": [],
   "source": [
    "df2.describe()  # เราสามารถทำสิ่งที่ข้างบนทำได้ง่ายๆ โดยใช้.describe ซึ่งจะบอกทุกอย่าง"
   ]
  },
  {
   "cell_type": "markdown",
   "metadata": {
    "id": "iN8j8F4AIRR9"
   },
   "source": [
    "### Categorical Data"
   ]
  },
  {
   "cell_type": "markdown",
   "metadata": {
    "id": "zQ_BqnztIUSR"
   },
   "source": [
    "ในส่วนของ categorical data เราก็จะสามารถหา unique value ของ category ได้ รวมทั้งจำนวนครั้งที่ category นั้นมีอยู่ใน data ของเรา"
   ]
  },
  {
   "cell_type": "code",
   "execution_count": null,
   "metadata": {
    "colab": {
     "base_uri": "https://localhost:8080/",
     "height": 458
    },
    "id": "jEAEgYXbIV4i",
    "outputId": "513907e0-2272-44dc-ac52-2ac72fe9fd59"
   },
   "outputs": [],
   "source": [
    "df2[\"Ticket\"]"
   ]
  },
  {
   "cell_type": "code",
   "execution_count": null,
   "metadata": {
    "colab": {
     "base_uri": "https://localhost:8080/"
    },
    "id": "0nkxGosMIdCK",
    "outputId": "54a0e1f8-7e6e-4ce5-f724-028e145ef8ba"
   },
   "outputs": [],
   "source": [
    "df[\"Ticket\"].unique()  # หาว่าในคอลลัมน์Ticketมีค่าอะไรบ้างซึ่งจะไม่มีค่าซํ้า"
   ]
  },
  {
   "cell_type": "code",
   "execution_count": null,
   "metadata": {
    "colab": {
     "base_uri": "https://localhost:8080/"
    },
    "id": "Ofk_eV5AIli_",
    "outputId": "862d3d3e-75f2-4c85-b221-eaf05289ef24"
   },
   "outputs": [],
   "source": [
    "df[\"Ticket\"].nunique()  # หาจำนวนของค่าunique ว่ามีกี่ตัว"
   ]
  },
  {
   "cell_type": "code",
   "execution_count": null,
   "metadata": {
    "colab": {
     "base_uri": "https://localhost:8080/",
     "height": 489
    },
    "id": "66xToUTGIygL",
    "outputId": "b973d3a5-c29b-4416-d6bb-6e6a0212c394"
   },
   "outputs": [],
   "source": [
    "df[\"Ticket\"].value_counts()  # เรียกออกมาดูว่าในคอลลัมน์นั้นมีค่าไหนซํ้ากันกี่ตัว"
   ]
  },
  {
   "cell_type": "markdown",
   "metadata": {
    "id": "dtjiykqbJAd_"
   },
   "source": [
    "### Categorical & Numerical Data"
   ]
  },
  {
   "cell_type": "markdown",
   "metadata": {
    "id": "_LhAdQCwJBHZ"
   },
   "source": [
    "เราสามารถจัดกลุ่มของ category ต่างๆโดยคำสั่ง `groupby()` [Group by: split-apply-combine](https://pandas.pydata.org/docs/user_guide/groupby.html) เพื่อที่จะสามารถหาค่าต่างๆในแต่ละกลุ่มได้"
   ]
  },
  {
   "cell_type": "code",
   "execution_count": null,
   "metadata": {
    "colab": {
     "base_uri": "https://localhost:8080/",
     "height": 423
    },
    "id": "HVKBr49QIjik",
    "outputId": "35b5681d-81f1-4cc3-ffca-3dee9c2c0258"
   },
   "outputs": [],
   "source": [
    "df2"
   ]
  },
  {
   "cell_type": "code",
   "execution_count": null,
   "metadata": {
    "colab": {
     "base_uri": "https://localhost:8080/",
     "height": 178
    },
    "id": "-UrhGcnwJT7O",
    "outputId": "f80ab2f2-257e-406b-b96b-7cbcf9755c85"
   },
   "outputs": [],
   "source": [
    "df2.groupby([\"Sex\"])[\n",
    "    \"Age\"\n",
    "].max()  # เรียกดูว่าในคอลลัมน์sex มีcatigorycal data อะไรบ้างและแต่ละอันมีค่าmaxเท่าไหร่"
   ]
  },
  {
   "cell_type": "code",
   "execution_count": null,
   "metadata": {
    "colab": {
     "base_uri": "https://localhost:8080/",
     "height": 178
    },
    "id": "Bxwscv-qJYij",
    "outputId": "5cee8357-04cd-4ff0-aae2-004192806682"
   },
   "outputs": [],
   "source": [
    "df2.groupby([\"Sex\"])[\n",
    "    \"Age\"\n",
    "].min()  # เรียกดูว่าในคอลลัมน์sex มีcatigorycal data อะไรบ้างและแต่ละอันมีค่าmaxของageเท่าไหร่"
   ]
  },
  {
   "cell_type": "code",
   "execution_count": null,
   "metadata": {
    "colab": {
     "base_uri": "https://localhost:8080/",
     "height": 178
    },
    "id": "4jBLc_hJJdyE",
    "outputId": "12bd728c-6819-485f-fea9-59f87a059663"
   },
   "outputs": [],
   "source": [
    "df2.groupby([\"Sex\"])[\n",
    "    \"Age\"\n",
    "].mean()  # เรียกดูว่าในคอลลัมน์sex มีcatigorycal data อะไรบ้างและแต่ละอันมีค่าmeanของageเท่าไหร่"
   ]
  },
  {
   "cell_type": "code",
   "execution_count": null,
   "metadata": {
    "colab": {
     "base_uri": "https://localhost:8080/",
     "height": 178
    },
    "id": "6LR-BnHe2NId",
    "outputId": "ec6d5958-67ae-4509-c350-e78ac02d0102"
   },
   "outputs": [],
   "source": [
    "df2.groupby([\"Sex\"])[\n",
    "    \"Fare\"\n",
    "].mean()  # เรียกดูว่าในคอลลัมน์sex มีcatigorycal data อะไรบ้างและแต่ละอันมีค่าmeanของfareเท่าไหร่"
   ]
  }
 ],
 "metadata": {
  "colab": {
   "provenance": []
  },
  "kernelspec": {
   "display_name": "Python 3",
   "name": "python3"
  },
  "language_info": {
   "codemirror_mode": {
    "name": "ipython",
    "version": 3
   },
   "file_extension": ".py",
   "mimetype": "text/x-python",
   "name": "python",
   "nbconvert_exporter": "python",
   "pygments_lexer": "ipython3",
   "version": "3.13.0"
  }
 },
 "nbformat": 4,
 "nbformat_minor": 0
}
