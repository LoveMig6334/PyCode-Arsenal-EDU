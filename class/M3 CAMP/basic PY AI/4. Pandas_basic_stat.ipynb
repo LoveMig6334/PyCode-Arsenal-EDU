{
 "cells": [
  {
   "cell_type": "markdown",
   "metadata": {
    "id": "auQXgnm7LTiu"
   },
   "source": [
    "# Pandas and stat"
   ]
  },
  {
   "cell_type": "markdown",
   "metadata": {
    "id": "Wc9z0OyuLb1R"
   },
   "source": [
    "เราจะใช้pandasกับสถิตินิดหน่อยในการอธิบายข้อมูลตารางที่เราได้มา"
   ]
  },
  {
   "cell_type": "code",
   "execution_count": 1,
   "metadata": {
    "collapsed": true,
    "id": "cnWINTgQg1e2"
   },
   "outputs": [],
   "source": [
    "import pandas as pd"
   ]
  },
  {
   "cell_type": "code",
   "execution_count": null,
   "metadata": {
    "colab": {
     "base_uri": "https://localhost:8080/",
     "height": 206
    },
    "id": "Jb2FMHvcg1e6",
    "outputId": "ea7f0cbc-c45f-4a5a-e912-49d3b2d4122f"
   },
   "outputs": [],
   "source": [
    "df = pd.read_csv(\"https://raw.githubusercontent.com/prasertcbs/tutorial/master/mpg.csv\")\n",
    "df.head()"
   ]
  },
  {
   "cell_type": "code",
   "execution_count": null,
   "metadata": {
    "colab": {
     "base_uri": "https://localhost:8080/",
     "height": 206
    },
    "id": "4IoESyzGg1e7",
    "outputId": "a3cce4f6-ec08-4f97-a09e-98d1f4d740d9"
   },
   "outputs": [],
   "source": [
    "df.tail()"
   ]
  },
  {
   "cell_type": "code",
   "execution_count": null,
   "metadata": {
    "colab": {
     "base_uri": "https://localhost:8080/"
    },
    "id": "iqJapDfxg1e8",
    "outputId": "38436471-e980-4653-a267-1cd83487866e"
   },
   "outputs": [],
   "source": [
    "df.shape"
   ]
  },
  {
   "cell_type": "code",
   "execution_count": null,
   "metadata": {
    "colab": {
     "base_uri": "https://localhost:8080/"
    },
    "id": "2_9PgzvHg1e8",
    "outputId": "db55ec62-7631-4617-a8bd-e675d39571fb"
   },
   "outputs": [],
   "source": [
    "df.info()"
   ]
  },
  {
   "cell_type": "code",
   "execution_count": null,
   "metadata": {
    "colab": {
     "base_uri": "https://localhost:8080/",
     "height": 887
    },
    "id": "A-0kxCV2g1e9",
    "outputId": "908ed1d7-1e1c-4a15-a114-09ec93b76bb8"
   },
   "outputs": [],
   "source": [
    "df.sample(20)"
   ]
  },
  {
   "cell_type": "code",
   "execution_count": null,
   "metadata": {
    "colab": {
     "base_uri": "https://localhost:8080/",
     "height": 810
    },
    "id": "3JK9VV50g1e-",
    "outputId": "7b3ee13e-c6fd-4fc3-fba9-0c871ab0c2ef"
   },
   "outputs": [],
   "source": [
    "df.mean()"
   ]
  },
  {
   "cell_type": "code",
   "execution_count": null,
   "metadata": {
    "colab": {
     "base_uri": "https://localhost:8080/",
     "height": 425
    },
    "id": "_FxEQXVVg1e-",
    "outputId": "5e4b489c-07ad-4fe4-b31e-cabacea4fbc2"
   },
   "outputs": [],
   "source": [
    "df.median()"
   ]
  },
  {
   "cell_type": "code",
   "execution_count": null,
   "metadata": {
    "colab": {
     "base_uri": "https://localhost:8080/",
     "height": 585
    },
    "id": "K0ToYWXLg1e_",
    "outputId": "393a31f0-844f-480a-db6e-ac729ad80c19"
   },
   "outputs": [],
   "source": [
    "df.manufacturer.value_counts()"
   ]
  },
  {
   "cell_type": "code",
   "execution_count": null,
   "metadata": {
    "id": "jjAfnqKyg1fA"
   },
   "outputs": [],
   "source": [
    "# df.class.value_counts()"
   ]
  },
  {
   "cell_type": "code",
   "execution_count": null,
   "metadata": {
    "colab": {
     "base_uri": "https://localhost:8080/",
     "height": 335
    },
    "id": "yo3YMKi2g1fA",
    "outputId": "580cff86-339e-4e07-8457-1de6d14f5272"
   },
   "outputs": [],
   "source": [
    "df[\"class\"].value_counts()"
   ]
  },
  {
   "cell_type": "code",
   "execution_count": null,
   "metadata": {
    "id": "YkhmV5M9g1fB"
   },
   "outputs": [],
   "source": [
    "df.describe()"
   ]
  },
  {
   "cell_type": "code",
   "execution_count": null,
   "metadata": {
    "id": "FQKCRMyyg1fB"
   },
   "outputs": [],
   "source": [
    "df.describe().T"
   ]
  },
  {
   "cell_type": "code",
   "execution_count": null,
   "metadata": {
    "id": "hufMDRvwg1fC"
   },
   "outputs": [],
   "source": [
    "df.corr()  # ใช้corrในการหาความสัมพันธ์ของข้อมูลแต่ละcollumnถ้ามีความเชื่อมโยงกันแบบแปรผันตรงยิ่งมากเท่าไหร่จะมีค่าเข้าใกล้1 ถ้าแปรผกผันจะใกล้-1 ถ้าเป็น0คือไม่มีความสัมพันธ์"
   ]
  },
  {
   "cell_type": "code",
   "execution_count": null,
   "metadata": {
    "id": "EET1_fZbg1fC"
   },
   "outputs": [],
   "source": [
    "df.nlargest(5, columns=\"cty\")  # เรียงลำดับแถวในctyที่มีค่ามากที่สุด5ตัวแรก"
   ]
  },
  {
   "cell_type": "code",
   "execution_count": null,
   "metadata": {
    "id": "KZdCbpnqg1fC"
   },
   "outputs": [],
   "source": [
    "df.nsmallest(5, columns=\"hwy\")  # เรียงลำดับแถวในhwyที่มีค่าน้อยที่สุด5ตัวแรก"
   ]
  }
 ],
 "metadata": {
  "colab": {
   "provenance": []
  },
  "kernelspec": {
   "display_name": "Python 3",
   "language": "python",
   "name": "python3"
  },
  "language_info": {
   "codemirror_mode": {
    "name": "ipython",
    "version": 3
   },
   "file_extension": ".py",
   "mimetype": "text/x-python",
   "name": "python",
   "nbconvert_exporter": "python",
   "pygments_lexer": "ipython3",
   "version": "3.13.0"
  }
 },
 "nbformat": 4,
 "nbformat_minor": 0
}
