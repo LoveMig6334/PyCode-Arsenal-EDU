{
 "cells": [
  {
   "cell_type": "code",
   "execution_count": null,
   "metadata": {
    "id": "BhmFbo1VnZ4d"
   },
   "outputs": [],
   "source": [
    "import numpy as np"
   ]
  },
  {
   "cell_type": "markdown",
   "metadata": {
    "id": "yfI1vz1ZoHUC"
   },
   "source": [
    "# Test"
   ]
  },
  {
   "cell_type": "markdown",
   "metadata": {
    "id": "mhF8imYymVE5"
   },
   "source": [
    "โจทย์ปัญหาที่ 1: หาผลรวมในลิสต์"
   ]
  },
  {
   "cell_type": "markdown",
   "metadata": {
    "id": "FGa7GZW-matA"
   },
   "source": [
    "จงสร้างฟังก์ชั่นให้สมบูรณ์โดยที่จะรับค่าลิสต์เข้าไปในฟังก์ชั่นและนำข้อมูลทั้งหมดในลิสต์มาบวกกันและreturnผลออกไป"
   ]
  },
  {
   "cell_type": "code",
   "execution_count": 2,
   "metadata": {},
   "outputs": [],
   "source": [
    "def sum_list(array: list[int]) -> int:\n",
    "    result = 0\n",
    "    for member in array:\n",
    "        result += member\n",
    "    return result"
   ]
  },
  {
   "cell_type": "code",
   "execution_count": null,
   "metadata": {
    "colab": {
     "base_uri": "https://localhost:8080/"
    },
    "executionInfo": {
     "elapsed": 538,
     "status": "ok",
     "timestamp": 1729566107591,
     "user": {
      "displayName": "ธรรศ บุนนาค",
      "userId": "10254962030361458836"
     },
     "user_tz": -420
    },
    "id": "0DYrRHfpnp_A",
    "outputId": "0edc0b84-0f29-4caf-d030-4a2e5517c0bd"
   },
   "outputs": [],
   "source": [
    "def test_count_even():\n",
    "    assert sum_list([1, 2, 3, 4, 5]) == 15\n",
    "    assert sum_list([1, 3, 5, 7]) == 16\n",
    "    assert sum_list([2, 4, 8, 16, 32]) == 62\n",
    "    assert sum_list([]) == 0\n",
    "    print(\"==== Test OK ====\")\n",
    "\n",
    "\n",
    "test_count_even()"
   ]
  },
  {
   "cell_type": "markdown",
   "metadata": {
    "id": "5xJE3Zoeqb0E"
   },
   "source": [
    "โจทย์ปัญหาที่ 2: FizzBuzz"
   ]
  },
  {
   "cell_type": "markdown",
   "metadata": {
    "id": "5u5BOrfhtEVU"
   },
   "source": [
    "จงเขียนฟังก์ชัน `fizzbuzz` ที่รับlist\n",
    "โดย\n",
    "- สร้างlistใหม่ขึ้นมาอันนึง\n",
    "- ถ้า listที่ได้รับมามีเลขที่ หารด้วย 2 ลงตัว แต่หารด้วย 3 ไม่ลงตัว ให้เก็บค่า string ว่า `\"fizz\"`ในlistใหม่\n",
    "- ถ้า listที่ได้รับมามีเลขที่ หารด้วย 3 ลงตัว แต่หารด้วย 2 ไม่ลงตัว ให้เก็บค่า string ว่า `\"buzz\"`ในlistใหม่\n",
    "- ถ้า listที่ได้รับมามีเลขที่ หารด้วยทั้ง 2 และ 3 ลงตัวทั้งคู่ ให้เก็บค่า string ว่า `\"fizzbuzz\"`ในlistใหม่\n",
    "- นอกเหนือจากเงื่อนไขข้างต้น ให้เก็บค่า เลขนั้นในlistใหม่\n",
    "จากนั้นให้return listที่สร้างและเก็บค่าดังกล่าวออกไป\n",
    "\n",
    "(**คำใบ้:** ลองใช้ `if`, `elif`, และ `else` ภายในฟังก์ชัน `fizzbuzz`)"
   ]
  },
  {
   "cell_type": "code",
   "execution_count": 4,
   "metadata": {
    "colab": {
     "base_uri": "https://localhost:8080/"
    },
    "executionInfo": {
     "elapsed": 510,
     "status": "ok",
     "timestamp": 1729566678359,
     "user": {
      "displayName": "ธรรศ บุนนาค",
      "userId": "10254962030361458836"
     },
     "user_tz": -420
    },
    "id": "_bdoSPp7skVG",
    "outputId": "3d5ba223-4e61-4733-c4a0-d0f42d322c07"
   },
   "outputs": [],
   "source": [
    "def fizzbuzz(arr: list[int]):\n",
    "    result_list: list = []\n",
    "\n",
    "    for member in arr:\n",
    "        if member % 2 == 0 and member % 3 == 0:\n",
    "            result_list.append(\"fizzbuzz\")\n",
    "        elif member % 2 == 0:\n",
    "            result_list.append(\"fizz\")\n",
    "        elif member % 3 == 0:\n",
    "            result_list.append(\"buzz\")\n",
    "        else:\n",
    "            result_list.append(member)\n",
    "\n",
    "    return result_list"
   ]
  },
  {
   "cell_type": "code",
   "execution_count": null,
   "metadata": {
    "colab": {
     "base_uri": "https://localhost:8080/"
    },
    "executionInfo": {
     "elapsed": 496,
     "status": "ok",
     "timestamp": 1729566681537,
     "user": {
      "displayName": "ธรรศ บุนนาค",
      "userId": "10254962030361458836"
     },
     "user_tz": -420
    },
    "id": "iLGQ2Zi-vZs7",
    "outputId": "e2fd66f0-4ef6-4876-8a8d-ad5681ceedcd"
   },
   "outputs": [],
   "source": [
    "def test_cal_menu():\n",
    "    assert fizzbuzz(range(1, 20)) == [\n",
    "        1,\n",
    "        \"fizz\",\n",
    "        \"buzz\",\n",
    "        \"fizz\",\n",
    "        5,\n",
    "        \"fizzbuzz\",\n",
    "        7,\n",
    "        \"fizz\",\n",
    "        \"buzz\",\n",
    "        \"fizz\",\n",
    "        11,\n",
    "        \"fizzbuzz\",\n",
    "        13,\n",
    "        \"fizz\",\n",
    "        \"buzz\",\n",
    "        \"fizz\",\n",
    "        17,\n",
    "        \"fizzbuzz\",\n",
    "        19,\n",
    "    ]\n",
    "    print(\"==== Test OK ====\")\n",
    "\n",
    "\n",
    "test_cal_menu()"
   ]
  },
  {
   "cell_type": "markdown",
   "metadata": {
    "id": "57J9oezxomk2"
   },
   "source": [
    "โจทย์ปัญหาที่ 3: หา Prefix ทั้งหมดที่เป็นไปได้\n",
    "\n",
    "---\n",
    "\n",
    " จงเติมฟังก์ชัน `all_prefixes` ให้สมบูรณ์ เพื่อคำนวณหาลิสต์ของ Prefix ทั้งหมดของสตริงที่กำหนดให้\n",
    "\n",
    "---\n",
    "ตัวอย่าง\n",
    "ยกตัวอย่างเช่น สตริง `\"Hello, World!\"` ประกอบไปด้วย Prefix ดังต่อไปนี้ โดยให้returnออกมาเป็นลิสต์\n",
    "- [\n",
    "- `\"\"`\n",
    "- `\"H\"`\n",
    "- `\"He\"`\n",
    "- `\"Hel\"`\n",
    "- `\"Hell\"`\n",
    "- `\"Hello\"`\n",
    "- `\"Hello,\"`\n",
    "- `\"Hello, \"`\n",
    "- `\"Hello, W\"`\n",
    "- `\"Hello, Wo\"`\n",
    "- `\"Hello, Wor\"`\n",
    "- `\"Hello, Worl\"`\n",
    "- `\"Hello, World\"`\n",
    "- `\"Hello, World!\"`\n",
    "- ]\n"
   ]
  },
  {
   "cell_type": "code",
   "execution_count": null,
   "metadata": {
    "colab": {
     "base_uri": "https://localhost:8080/"
    },
    "executionInfo": {
     "elapsed": 528,
     "status": "ok",
     "timestamp": 1729568099263,
     "user": {
      "displayName": "ธรรศ บุนนาค",
      "userId": "10254962030361458836"
     },
     "user_tz": -420
    },
    "id": "g_o4_HGppSMv",
    "outputId": "2e051b8b-d909-43ae-933a-8312235ce1f6"
   },
   "outputs": [],
   "source": [
    "def all_prefixes(string: str) -> list[str]:\n",
    "    result: list = []\n",
    "\n",
    "    for i in range(0, len(string) + 1):\n",
    "        result.append(string[0:i])\n",
    "\n",
    "    return result\n",
    "\n",
    "\n",
    "print(all_prefixes(\"Hello World!\"))"
   ]
  },
  {
   "cell_type": "code",
   "execution_count": null,
   "metadata": {
    "colab": {
     "base_uri": "https://localhost:8080/"
    },
    "executionInfo": {
     "elapsed": 495,
     "status": "ok",
     "timestamp": 1729568106331,
     "user": {
      "displayName": "ธรรศ บุนนาค",
      "userId": "10254962030361458836"
     },
     "user_tz": -420
    },
    "id": "OaDv8n1vn6vy",
    "outputId": "52c07248-731a-49e6-e483-1456a05be4b4"
   },
   "outputs": [],
   "source": [
    "def test_all_prefixes():\n",
    "    assert all_prefixes(\"Hello, World!\") == [\n",
    "        \"\",\n",
    "        \"H\",\n",
    "        \"He\",\n",
    "        \"Hel\",\n",
    "        \"Hell\",\n",
    "        \"Hello\",\n",
    "        \"Hello,\",\n",
    "        \"Hello, \",\n",
    "        \"Hello, W\",\n",
    "        \"Hello, Wo\",\n",
    "        \"Hello, Wor\",\n",
    "        \"Hello, Worl\",\n",
    "        \"Hello, World\",\n",
    "        \"Hello, World!\",\n",
    "    ]\n",
    "    assert all_prefixes(\"APPLES\") == [\"\", \"A\", \"AP\", \"APP\", \"APPL\", \"APPLE\", \"APPLES\"]\n",
    "    assert all_prefixes(\"👨‍🦱\") == [\"\", \"👨\", \"👨\\u200d\", \"👨\\u200d🦱\"]\n",
    "    assert all_prefixes(\"\") == [\"\"]\n",
    "    print(\"==== Test OK ====\")\n",
    "\n",
    "\n",
    "test_all_prefixes()"
   ]
  },
  {
   "cell_type": "markdown",
   "metadata": {
    "id": "mtifusu7ndf1"
   },
   "source": [
    "โจทย์ปัญหาที่ 4: สับเปลี่ยนมิติ\n"
   ]
  },
  {
   "cell_type": "markdown",
   "metadata": {
    "id": "in38KdzhuaaC"
   },
   "source": [
    "ให้สร้างฟังกชั่นสับเปลี่ยนมิติให้เรียบร้อย ซึ่งรับค่าสามค่า คือ arr แล้วก็ shapeที่ต้องการเปลี่ยน โดยมี x,y\n",
    "โดยถ้าสามารถreshapeได้ ให้returnค่าออกมาเป็นarrayที่reshapeแล้ว แต่ถ้าทำไม่ได้ให้return 'please try again'"
   ]
  },
  {
   "cell_type": "code",
   "execution_count": null,
   "metadata": {
    "id": "Pzclb7jaoQ9g"
   },
   "outputs": [],
   "source": [
    "def changeD(arr: list[int], x, y):\n",
    "    try:\n",
    "        shape = arr.reshape(x, y)\n",
    "        return shape\n",
    "    except ValueError:\n",
    "        return \"please try again\""
   ]
  },
  {
   "cell_type": "code",
   "execution_count": null,
   "metadata": {
    "colab": {
     "base_uri": "https://localhost:8080/"
    },
    "executionInfo": {
     "elapsed": 525,
     "status": "ok",
     "timestamp": 1729571639658,
     "user": {
      "displayName": "ธรรศ บุนนาค",
      "userId": "10254962030361458836"
     },
     "user_tz": -420
    },
    "id": "FZhQqXEfppYF",
    "outputId": "6cbdf198-f174-4a85-a7b4-adfb94611d9a"
   },
   "outputs": [],
   "source": [
    "def test_cal_menu():\n",
    "    assert str(changeD(np.array([1, 2, 3, 4, 5, 6, 7, 8]), 2, 4)) == str(\n",
    "        np.array([[1, 2, 3, 4], [5, 6, 7, 8]])\n",
    "    )\n",
    "    assert str(changeD(np.array([1, 2, 3, 4, 5, 6, 7, 8, 9]), 3, 3)) == str(\n",
    "        np.array([[1, 2, 3], [4, 5, 6], [7, 8, 9]])\n",
    "    )\n",
    "    assert (\n",
    "        str(changeD(np.array([1, 2, 3, 4, 5, 6, 7, 8, 9]), 4, 3)) == \"please try again\"\n",
    "    )\n",
    "    print(\"==== Test OK ====\")\n",
    "\n",
    "\n",
    "test_cal_menu()"
   ]
  },
  {
   "cell_type": "markdown",
   "metadata": {
    "id": "ViahYwejtBnR"
   },
   "source": [
    "โจทย์ปัญหาที่ 5: ค่าเฉลี่ยของแต่ละคอลัมน์ของ a (ซึ่งมีขนาด  3×3 ) มีค่าเท่าใด?"
   ]
  },
  {
   "cell_type": "code",
   "execution_count": null,
   "metadata": {
    "colab": {
     "base_uri": "https://localhost:8080/"
    },
    "executionInfo": {
     "elapsed": 371,
     "status": "ok",
     "timestamp": 1729599340189,
     "user": {
      "displayName": "ธรรศ บุนนาค",
      "userId": "10254962030361458836"
     },
     "user_tz": -420
    },
    "id": "vt1265hgr5vt",
    "outputId": "60824580-4303-4035-d0d7-ec3b21209978"
   },
   "outputs": [],
   "source": [
    "matrix = [\n",
    "    [1, 2, 3],\n",
    "    [4, 5, 6],\n",
    "    [7, 8, 9],\n",
    "]\n",
    "print(matrix)\n",
    "\n",
    "\n",
    "def find_mean(a: list[list[int]]) -> list[float]:\n",
    "    long: int = len(a)\n",
    "\n",
    "    sum_lst = [sum(idx) for idx in zip(*a)]\n",
    "    final_set = [s / long for s in sum_lst]\n",
    "\n",
    "    return final_set\n",
    "\n",
    "\n",
    "print(find_mean(matrix))\n"
   ]
  },
  {
   "cell_type": "code",
   "execution_count": null,
   "metadata": {
    "colab": {
     "base_uri": "https://localhost:8080/"
    },
    "executionInfo": {
     "elapsed": 364,
     "status": "ok",
     "timestamp": 1729599341834,
     "user": {
      "displayName": "ธรรศ บุนนาค",
      "userId": "10254962030361458836"
     },
     "user_tz": -420
    },
    "id": "C5XRjta2tTpn",
    "outputId": "ba71dca3-20fc-4394-c4c8-916be983d011"
   },
   "outputs": [],
   "source": [
    "def test_find_mean():\n",
    "    assert find_mean([[1, 2, 3], [4, 5, 6], [7, 8, 9]]) == [4.0, 5.0, 6.0]\n",
    "\n",
    "    print(\"==== Test OK ====\")\n",
    "\n",
    "\n",
    "test_find_mean()"
   ]
  }
 ],
 "metadata": {
  "colab": {
   "provenance": [
    {
     "file_id": "1VB7XoXNRXKbWeKiS31mPapDI8_Olyh28",
     "timestamp": 1729566112628
    }
   ]
  },
  "kernelspec": {
   "display_name": ".venv",
   "language": "python",
   "name": "python3"
  },
  "language_info": {
   "codemirror_mode": {
    "name": "ipython",
    "version": 3
   },
   "file_extension": ".py",
   "mimetype": "text/x-python",
   "name": "python",
   "nbconvert_exporter": "python",
   "pygments_lexer": "ipython3",
   "version": "3.12.8"
  }
 },
 "nbformat": 4,
 "nbformat_minor": 0
}
