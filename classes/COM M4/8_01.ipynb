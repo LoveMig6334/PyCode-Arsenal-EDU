{
  "nbformat": 4,
  "nbformat_minor": 0,
  "metadata": {
    "colab": {
      "provenance": []
    },
    "kernelspec": {
      "name": "python3",
      "display_name": "Python 3"
    },
    "language_info": {
      "name": "python"
    }
  },
  "cells": [
    {
      "cell_type": "code",
      "execution_count": 3,
      "metadata": {
        "colab": {
          "base_uri": "https://localhost:8080/"
        },
        "id": "4kJlOuDD0_xP",
        "outputId": "f6a4038e-2a1e-4dc6-fe3a-261f1f3dceed"
      },
      "outputs": [
        {
          "output_type": "stream",
          "name": "stdout",
          "text": [
            "กรอกค่าความยาวด้าน : 12.1\n",
            "พื้นที่สี่เหลี่ยมจตุรัส 146.41\n"
          ]
        }
      ],
      "source": [
        "side_x = float(input(\"กรอกค่าความยาวด้าน : \"))\n",
        "print(f\"พื้นที่สี่เหลี่ยมจตุรัสเป็น {(side_x ** 2):.2f} ตารางหน่วย\")"
      ]
    }
  ]
}