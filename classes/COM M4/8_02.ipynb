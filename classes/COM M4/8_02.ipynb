{
  "nbformat": 4,
  "nbformat_minor": 0,
  "metadata": {
    "colab": {
      "provenance": []
    },
    "kernelspec": {
      "name": "python3",
      "display_name": "Python 3"
    },
    "language_info": {
      "name": "python"
    }
  },
  "cells": [
    {
      "cell_type": "code",
      "execution_count": null,
      "metadata": {
        "colab": {
          "base_uri": "https://localhost:8080/"
        },
        "id": "3Wsiqyal1_Cm",
        "outputId": "ed6cb945-e8e3-4098-f9fc-049125d812b5"
      },
      "outputs": [
        {
          "output_type": "stream",
          "name": "stdout",
          "text": [
            "กรอกค่าความยาวด้าน : 5\n",
            "กรอกค่าความกว้างด้าน : 4\n",
            "พื้นที่สี่เหลี่ยมจตุรัสเป็น 625.00 ตารางหน่วย\n"
          ]
        }
      ],
      "source": [
        "side_x = float(input(\"กรอกค่าความยาวด้าน : \"))\n",
        "side_y = float(input(\"กรอกค่าความกว้างด้าน : \"))\n",
        "\n",
        "print(f\"พื้นที่สี่เหลี่ยมผืนผ้าเป็น {(side_x ** side_y):.2f} ตารางหน่วย\")"
      ]
    }
  ]
}