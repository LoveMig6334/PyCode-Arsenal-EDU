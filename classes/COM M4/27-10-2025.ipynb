{
 "cells": [
  {
   "cell_type": "markdown",
   "id": "c7f1193f",
   "metadata": {},
   "source": [
    "# การประกาศค่าตัวแปร list (C - Create List)\n"
   ]
  },
  {
   "cell_type": "code",
   "execution_count": 19,
   "id": "a60017aa",
   "metadata": {},
   "outputs": [
    {
     "name": "stdout",
     "output_type": "stream",
     "text": [
      "นมชมพู\n",
      "นมน้ำตาล\n",
      "นมกาแฟ\n"
     ]
    }
   ],
   "source": [
    "menu_1 = \"นมชมพู\"\n",
    "menu_2 = \"นมน้ำตาล\"\n",
    "menu_3 = \"นมกาแฟ\"\n",
    "# ตัวแปร 1 ตัว เก็บข้อมูลได้ 1 ค่า\n",
    "# หากอยากเก็บข้อมูล 100 ตัว ต้องประกาศตัวแปร 100 ตัว\n",
    "\n",
    "print(menu_1)\n",
    "print(menu_2)\n",
    "print(menu_3)"
   ]
  },
  {
   "cell_type": "code",
   "execution_count": 20,
   "id": "185ec410",
   "metadata": {},
   "outputs": [],
   "source": [
    "# การสร้าง list\n",
    "# list มีประโยชน์ในการเก็บข้อมูลหลายค่าในตัวแปรเดียว\n",
    "list1 = [\"นมชมพู\", \"นมน้ำตาล\", \"นมกาแฟ\"]"
   ]
  },
  {
   "cell_type": "markdown",
   "id": "63ccebef",
   "metadata": {},
   "source": [
    "# การอ่านค่าตัวแปรจาก list (R - Read List Value)\n"
   ]
  },
  {
   "cell_type": "code",
   "execution_count": 21,
   "id": "90ab4663",
   "metadata": {},
   "outputs": [
    {
     "name": "stdout",
     "output_type": "stream",
     "text": [
      "['นมชมพู', 'นมน้ำตาล', 'นมกาแฟ']\n"
     ]
    }
   ],
   "source": [
    "print(list1)  # การแสดงผล list ทั้งหมด"
   ]
  },
  {
   "cell_type": "code",
   "execution_count": 22,
   "id": "7e2e4c3c",
   "metadata": {},
   "outputs": [
    {
     "name": "stdout",
     "output_type": "stream",
     "text": [
      "นมชมพู\n",
      "นมน้ำตาล\n",
      "นมกาแฟ\n"
     ]
    }
   ],
   "source": [
    "print(list1[0])  # การเรียกข้อมูลใน list (index เริ่มต้นที่ 0)\n",
    "print(list1[1])\n",
    "print(list1[2])\n",
    "\n",
    "# index ในการเขียนโปรแกรม จะเริ่มต้นที่ 0 เสมอ และนับเพิ่มขึ้นทีละ 1"
   ]
  },
  {
   "cell_type": "code",
   "execution_count": 23,
   "id": "d3f6a4b3",
   "metadata": {},
   "outputs": [
    {
     "name": "stdout",
     "output_type": "stream",
     "text": [
      "เกิดข้อผิดพลาด: list index out of range\n"
     ]
    }
   ],
   "source": [
    "try:\n",
    "    print(list1[3])\n",
    "except IndexError as e:\n",
    "    print(f\"เกิดข้อผิดพลาด: {e}\")\n",
    "\n",
    "# จะเกิดข้อผิดพลาด เพราะไม่มี index ที่ 3\n",
    "# IndexError: list index out of range หมายถึง การเรียก index หรือ ตำแหน่ง ที่อยู่นอกขอบเขตของ list"
   ]
  },
  {
   "cell_type": "markdown",
   "id": "97776fd3",
   "metadata": {},
   "source": [
    "# การพิ่มค่าใน list (M - modify list)\n"
   ]
  },
  {
   "cell_type": "code",
   "execution_count": 24,
   "id": "147904e8",
   "metadata": {},
   "outputs": [
    {
     "name": "stdout",
     "output_type": "stream",
     "text": [
      "['นมชมพู', 'นมน้ำตาล', 'นมกาแฟ', 'นมน้ำผึ่ง']\n"
     ]
    }
   ],
   "source": [
    "list1.append(\"นมน้ำผึ่ง\")  # การเพิ่มค่าใน list ไปที่ท้ายสุดของ list\n",
    "print(list1)  # แสดงผล list หลังเพิ่มค่า"
   ]
  },
  {
   "cell_type": "code",
   "execution_count": 25,
   "id": "e7262f7c",
   "metadata": {},
   "outputs": [
    {
     "name": "stdout",
     "output_type": "stream",
     "text": [
      "['นมชมพู', 'นมน้ำตาล', 'นมกาแฟ', 'นมน้ำผึ่ง']\n",
      "['นมชมพู', 'นมเปรี้ยว', 'นมน้ำตาล', 'นมกาแฟ', 'นมน้ำผึ่ง']\n"
     ]
    }
   ],
   "source": [
    "print(list1)\n",
    "list1.insert(1, \"นมเปรี้ยว\")  # การแทรกค่าใน list ที่ตำแหน่งที่ต้องการ\n",
    "print(list1)  # แสดงผล list หลังเพิ่มค่า"
   ]
  },
  {
   "cell_type": "markdown",
   "id": "14defbc3",
   "metadata": {},
   "source": [
    "# คำสั่งอ่านค่าที่ index สุดท้ายของ list\n"
   ]
  },
  {
   "cell_type": "code",
   "execution_count": 26,
   "id": "fa9c688f",
   "metadata": {},
   "outputs": [
    {
     "name": "stdout",
     "output_type": "stream",
     "text": [
      "นมน้ำผึ่ง\n"
     ]
    }
   ],
   "source": [
    "print(list1[-1])  # การเรียกข้อมูลตัวสุดท้ายใน list โดยใช้ index -1"
   ]
  },
  {
   "cell_type": "code",
   "execution_count": 27,
   "id": "c2c06d7d",
   "metadata": {},
   "outputs": [
    {
     "name": "stdout",
     "output_type": "stream",
     "text": [
      "['นมชมพู', 'นมเปรี้ยว', 'นมน้ำตาล', 'นมกาแฟ', 'นมน้ำผึ่ง']\n",
      "['นมเปรี้ยว', 'นมน้ำตาล']\n",
      "['นมน้ำตาล', 'นมกาแฟ', 'นมน้ำผึ่ง']\n",
      "['นมชมพู', 'นมเปรี้ยว', 'นมน้ำตาล']\n"
     ]
    }
   ],
   "source": [
    "# การเรียกข้อมูลทั้งหมดใน list โดยใช้ slicing\n",
    "\n",
    "print(list1[:])  # เรียกข้อมูลทั้งหมด\n",
    "print(list1[1:3])  # เรียกข้อมูลตั้งแต่ index 1 ถึง index 2\n",
    "print(list1[2:])  # เรียกข้อมูลตั้งแต่ index 2 ถึงตัวสุดท้าย\n",
    "print(list1[:3])  # เรียกข้อมูลตั้งแต่ index 0 ถึง index 2\n",
    "\n",
    "# ตัวเลขที่อยู่ด้านหน้า : คือ จุดเริ่มต้น (inclusive)\n",
    "# ตัวเลขที่อยู่ด้านหลังคือ limit ซึ่งจะไม่ถูกแสดงค่า (exclusive)"
   ]
  },
  {
   "cell_type": "markdown",
   "id": "bb38c59c",
   "metadata": {},
   "source": [
    "# การ Update ค่า ใน list (U - Update)\n"
   ]
  },
  {
   "cell_type": "code",
   "execution_count": 28,
   "id": "56828fc8",
   "metadata": {},
   "outputs": [
    {
     "name": "stdout",
     "output_type": "stream",
     "text": [
      "นมน้ำตาล\n",
      "['นมชมพู', 'นมเปรี้ยว', 'นมโอวัลติน', 'นมกาแฟ', 'นมน้ำผึ่ง']\n"
     ]
    }
   ],
   "source": [
    "print(list1[2])\n",
    "list1[2] = \"นมโอวัลติน\"  # การแก้ไขข้อมูลใน list\n",
    "\n",
    "print(list1)  # แสดงผล list หลังแก้ไขข้อมูล"
   ]
  },
  {
   "cell_type": "markdown",
   "id": "b1ae4fb8",
   "metadata": {},
   "source": [
    "# การลบค่าออกจาก list (D - Deleat list Value) 4 คำสั่ง\n"
   ]
  },
  {
   "cell_type": "code",
   "execution_count": 29,
   "id": "3aed9188",
   "metadata": {},
   "outputs": [
    {
     "name": "stdout",
     "output_type": "stream",
     "text": [
      "['นมชมพู', 'นมเปรี้ยว', 'นมกาแฟ', 'นมน้ำผึ่ง']\n"
     ]
    }
   ],
   "source": [
    "list1.pop(2)\n",
    "# การลบข้อมูลใน list โดยระบุตำแหน่ง index ที่ต้องการลบ\n",
    "\n",
    "print(list1)  # แสดงผล list หลังลบข้อมูล"
   ]
  },
  {
   "cell_type": "code",
   "execution_count": 30,
   "id": "80e7a0a8",
   "metadata": {},
   "outputs": [
    {
     "name": "stdout",
     "output_type": "stream",
     "text": [
      "['นมชมพู', 'นมกาแฟ', 'นมน้ำผึ่ง']\n"
     ]
    }
   ],
   "source": [
    "list1.remove(\"นมเปรี้ยว\")  # การลบข้อมูลใน list โดยระบุค่าที่ต้องการลบ\n",
    "\n",
    "print(list1)  # แสดงผล list หลังลบข้อมูล"
   ]
  },
  {
   "cell_type": "code",
   "execution_count": 31,
   "id": "cc7b054a",
   "metadata": {},
   "outputs": [
    {
     "name": "stdout",
     "output_type": "stream",
     "text": [
      "['นมกาแฟ', 'นมน้ำผึ่ง']\n"
     ]
    }
   ],
   "source": [
    "del list1[0]\n",
    "# การลบข้อมูลใน list โดยระบุตำแหน่ง index ที่ต้องการลบ\n",
    "print(list1)  # แสดงผล list หลังลบข้อมูล"
   ]
  },
  {
   "cell_type": "code",
   "execution_count": 32,
   "id": "48d6c5ec",
   "metadata": {},
   "outputs": [
    {
     "name": "stdout",
     "output_type": "stream",
     "text": [
      "[]\n"
     ]
    }
   ],
   "source": [
    "list1.clear()  # การลบข้อมูลทั้งหมดใน list\n",
    "print(list1)  # แสดงผล list หลังลบข้อมูล"
   ]
  },
  {
   "cell_type": "code",
   "execution_count": 33,
   "id": "74ba4e86",
   "metadata": {},
   "outputs": [
    {
     "data": {
      "text/plain": [
       "[]"
      ]
     },
     "execution_count": 33,
     "metadata": {},
     "output_type": "execute_result"
    }
   ],
   "source": [
    "list1"
   ]
  },
  {
   "cell_type": "code",
   "execution_count": 34,
   "id": "d35689e3",
   "metadata": {},
   "outputs": [],
   "source": [
    "list1 = [\"นมชมพู\", \"นมเปรี้ยว\", \"นมกาแฟ\", \"นมน้ำผึ่ง\"]"
   ]
  },
  {
   "cell_type": "markdown",
   "id": "b67e1bca",
   "metadata": {},
   "source": [
    "# คำสั้งดูจำนวนสมากชิกของ list\n"
   ]
  },
  {
   "cell_type": "code",
   "execution_count": 35,
   "id": "c36f3dbd",
   "metadata": {},
   "outputs": [
    {
     "name": "stdout",
     "output_type": "stream",
     "text": [
      "4\n"
     ]
    }
   ],
   "source": [
    "print(len(list1))  # การนับจำนวนข้อมูลใน list"
   ]
  },
  {
   "cell_type": "code",
   "execution_count": 36,
   "id": "dda74019",
   "metadata": {},
   "outputs": [
    {
     "name": "stdout",
     "output_type": "stream",
     "text": [
      "มีนมกาแฟใน list\n"
     ]
    }
   ],
   "source": [
    "if \"นมกาแฟ\" in list1:\n",
    "    print(\"มีนมกาแฟใน list\")\n"
   ]
  },
  {
   "cell_type": "code",
   "execution_count": 37,
   "id": "514768d8",
   "metadata": {},
   "outputs": [
    {
     "name": "stdout",
     "output_type": "stream",
     "text": [
      "นมชมพู\n",
      "นมเปรี้ยว\n",
      "นมกาแฟ\n",
      "นมน้ำผึ่ง\n"
     ]
    }
   ],
   "source": [
    "for item in list1:\n",
    "    print(item)  # การวนลูปแสดงผลข้อมูลใน list ทีละตัว"
   ]
  }
 ],
 "metadata": {
  "kernelspec": {
   "display_name": ".venv",
   "language": "python",
   "name": "python3"
  },
  "language_info": {
   "codemirror_mode": {
    "name": "ipython",
    "version": 3
   },
   "file_extension": ".py",
   "mimetype": "text/x-python",
   "name": "python",
   "nbconvert_exporter": "python",
   "pygments_lexer": "ipython3",
   "version": "3.14.0"
  }
 },
 "nbformat": 4,
 "nbformat_minor": 5
}
