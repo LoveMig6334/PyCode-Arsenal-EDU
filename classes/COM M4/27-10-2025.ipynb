{
 "cells": [
  {
   "cell_type": "markdown",
   "id": "c7f1193f",
   "metadata": {},
   "source": [
    "# การประกาศค่าตัวแปร list (C - Create List)\n"
   ]
  },
  {
   "cell_type": "code",
   "execution_count": null,
   "id": "a60017aa",
   "metadata": {},
   "outputs": [
    {
     "name": "stdout",
     "output_type": "stream",
     "text": [
      "นมชมพู\n",
      "นมน้ำตาล\n",
      "นมกาแฟ\n"
     ]
    }
   ],
   "source": [
    "menu_1 = \"นมชมพู\"\n",
    "menu_2 = \"นมน้ำตาล\"\n",
    "menu_3 = \"นมกาแฟ\"\n",
    "# ตัวแปร 1 ตัว เก็บข้อมูลได้ 1 ค่า\n",
    "# หากอยากเก็บข้อมูล 100 ตัว ต้องประกาศตัวแปร 100 ตัว\n",
    "\n",
    "print(menu_1)\n",
    "print(menu_2)\n",
    "print(menu_3)"
   ]
  },
  {
   "cell_type": "code",
   "execution_count": 28,
   "id": "185ec410",
   "metadata": {},
   "outputs": [],
   "source": [
    "# การสร้าง list\n",
    "# list มีประโยชน์ในการเก็บข้อมูลหลายค่าในตัวแปรเดียว\n",
    "list1 = [\"นมชมพู\", \"นมน้ำตาล\", \"นมกาแฟ\"]"
   ]
  },
  {
   "cell_type": "markdown",
   "id": "63ccebef",
   "metadata": {},
   "source": [
    "# การอ่านค่าตัวแปรจาก list (R - Read List Value)\n"
   ]
  },
  {
   "cell_type": "code",
   "execution_count": 29,
   "id": "90ab4663",
   "metadata": {},
   "outputs": [
    {
     "name": "stdout",
     "output_type": "stream",
     "text": [
      "['นมชมพู', 'นมน้ำตาล', 'นมกาแฟ']\n"
     ]
    }
   ],
   "source": [
    "print(list1)  # การแสดงผล list ทั้งหมด"
   ]
  },
  {
   "cell_type": "code",
   "execution_count": 30,
   "id": "7e2e4c3c",
   "metadata": {},
   "outputs": [
    {
     "name": "stdout",
     "output_type": "stream",
     "text": [
      "นมชมพู\n",
      "นมน้ำตาล\n",
      "นมกาแฟ\n"
     ]
    }
   ],
   "source": [
    "print(list1[0])  # การเรียกข้อมูลใน list (index เริ่มต้นที่ 0)\n",
    "print(list1[1])\n",
    "print(list1[2])\n",
    "\n",
    "# index ในการเขียนโปรแกรม จะเริ่มต้นที่ 0 เสมอ และนับเพิ่มขึ้นทีละ 1"
   ]
  },
  {
   "cell_type": "code",
   "execution_count": 31,
   "id": "d3f6a4b3",
   "metadata": {},
   "outputs": [
    {
     "ename": "IndexError",
     "evalue": "list index out of range",
     "output_type": "error",
     "traceback": [
      "\u001b[31m---------------------------------------------------------------------------\u001b[39m",
      "\u001b[31mIndexError\u001b[39m                                Traceback (most recent call last)",
      "\u001b[36mCell\u001b[39m\u001b[36m \u001b[39m\u001b[32mIn[31]\u001b[39m\u001b[32m, line 1\u001b[39m\n\u001b[32m----> \u001b[39m\u001b[32m1\u001b[39m \u001b[38;5;28mprint\u001b[39m(\u001b[43mlist1\u001b[49m\u001b[43m[\u001b[49m\u001b[32;43m3\u001b[39;49m\u001b[43m]\u001b[49m)  \u001b[38;5;66;03m# จะเกิดข้อผิดพลาด เพราะไม่มี index ที่ 3\u001b[39;00m\n\u001b[32m      2\u001b[39m \u001b[38;5;66;03m# IndexError: list index out of range หมายถึง การเรียก index หรือ ตำแหน่ง ที่อยู่นอกขอบเขตของ list\u001b[39;00m\n",
      "\u001b[31mIndexError\u001b[39m: list index out of range"
     ]
    }
   ],
   "source": [
    "print(list1[3])  # จะเกิดข้อผิดพลาด เพราะไม่มี index ที่ 3\n",
    "# IndexError: list index out of range หมายถึง การเรียก index หรือ ตำแหน่ง ที่อยู่นอกขอบเขตของ list"
   ]
  },
  {
   "cell_type": "markdown",
   "id": "97776fd3",
   "metadata": {},
   "source": [
    "# การพิ่มค่าใน list (M - modify list)\n"
   ]
  },
  {
   "cell_type": "code",
   "execution_count": null,
   "id": "147904e8",
   "metadata": {},
   "outputs": [],
   "source": [
    "list1.append(\"นมน้ำผึ่ง\")  # การเพิ่มค่าใน list ไปที่ท้ายสุดของ list\n",
    "print(list1)  # แสดงผล list หลังเพิ่มค่า"
   ]
  },
  {
   "cell_type": "code",
   "execution_count": null,
   "id": "e7262f7c",
   "metadata": {},
   "outputs": [],
   "source": [
    "print(list1)\n",
    "list1.insert(1, \"นมเปรี้ยว\")  # การแทรกค่าใน list ที่ตำแหน่งที่ต้องการ\n",
    "print(list1)  # แสดงผล list หลังเพิ่มค่า"
   ]
  },
  {
   "cell_type": "markdown",
   "id": "14defbc3",
   "metadata": {},
   "source": [
    "# คำสั่งอ่านค่าที่ index สุดท้ายของ list\n"
   ]
  },
  {
   "cell_type": "code",
   "execution_count": null,
   "id": "fa9c688f",
   "metadata": {},
   "outputs": [],
   "source": [
    "print(list1[-1])  # การเรียกข้อมูลตัวสุดท้ายใน list โดยใช้ index -1"
   ]
  },
  {
   "cell_type": "code",
   "execution_count": null,
   "id": "c2c06d7d",
   "metadata": {},
   "outputs": [],
   "source": [
    "# การเรียกข้อมูลทั้งหมดใน list โดยใช้ slicing\n",
    "\n",
    "print(list1[:])  # เรียกข้อมูลทั้งหมด\n",
    "print(list1[1:3])  # เรียกข้อมูลตั้งแต่ index 1 ถึง index 2\n",
    "print(list1[2:])  # เรียกข้อมูลตั้งแต่ index 2 ถึงตัวสุดท้าย\n",
    "print(list1[:3])  # เรียกข้อมูลตั้งแต่ index 0 ถึง index 2"
   ]
  },
  {
   "cell_type": "markdown",
   "id": "b67e1bca",
   "metadata": {},
   "source": [
    "# คำสั้งดูจำนวนสมากชิกของ list\n"
   ]
  },
  {
   "cell_type": "code",
   "execution_count": null,
   "id": "c36f3dbd",
   "metadata": {},
   "outputs": [],
   "source": [
    "print(len(list1))  # การนับจำนวนข้อมูลใน list"
   ]
  }
 ],
 "metadata": {
  "kernelspec": {
   "display_name": ".venv",
   "language": "python",
   "name": "python3"
  },
  "language_info": {
   "codemirror_mode": {
    "name": "ipython",
    "version": 3
   },
   "file_extension": ".py",
   "mimetype": "text/x-python",
   "name": "python",
   "nbconvert_exporter": "python",
   "pygments_lexer": "ipython3",
   "version": "3.14.0"
  }
 },
 "nbformat": 4,
 "nbformat_minor": 5
}
