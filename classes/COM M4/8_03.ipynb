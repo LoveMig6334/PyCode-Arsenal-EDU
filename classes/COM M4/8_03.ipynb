{
  "nbformat": 4,
  "nbformat_minor": 0,
  "metadata": {
    "colab": {
      "provenance": []
    },
    "kernelspec": {
      "name": "python3",
      "display_name": "Python 3"
    },
    "language_info": {
      "name": "python"
    }
  },
  "cells": [
    {
      "cell_type": "code",
      "source": [
        "from math import pi"
      ],
      "metadata": {
        "id": "mG4vPfFw2__U"
      },
      "execution_count": 2,
      "outputs": []
    },
    {
      "cell_type": "code",
      "execution_count": 6,
      "metadata": {
        "colab": {
          "base_uri": "https://localhost:8080/"
        },
        "id": "JOL36Vhl2vmb",
        "outputId": "7b7146b4-41a4-4c38-a9b0-08d605819ba1"
      },
      "outputs": [
        {
          "output_type": "stream",
          "name": "stdout",
          "text": [
            "กรอกค่ารัสมีวงกลม : 0.5\n",
            "เส้นรอบวงยาว 3.14 หน่วย\n"
          ]
        }
      ],
      "source": [
        "radius = float(input(\"กรอกค่ารัสมีวงกลม : \"))\n",
        "\n",
        "print(f\"เส้นรอบวงยาว {(radius * 2 * pi):.2f} หน่วย\")"
      ]
    }
  ]
}