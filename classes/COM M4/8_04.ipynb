{
  "nbformat": 4,
  "nbformat_minor": 0,
  "metadata": {
    "colab": {
      "provenance": []
    },
    "kernelspec": {
      "name": "python3",
      "display_name": "Python 3"
    },
    "language_info": {
      "name": "python"
    }
  },
  "cells": [
    {
      "cell_type": "code",
      "execution_count": 2,
      "metadata": {
        "id": "7cxYbeqP5p6C"
      },
      "outputs": [],
      "source": [
        "from math import pi"
      ]
    },
    {
      "cell_type": "code",
      "source": [
        "radius = float(input(\"กรอกค่ารัสมีวงกลม : \"))\n",
        "\n",
        "print(f\"พื้นที่วงกลมเป็น {((radius ** 2) * pi):.2f} ตารางหน่วย\")"
      ],
      "metadata": {
        "colab": {
          "base_uri": "https://localhost:8080/"
        },
        "id": "V4MM2D0o5tNh",
        "outputId": "b9b4a717-8d1e-4244-cad6-efa69bba2587"
      },
      "execution_count": 3,
      "outputs": [
        {
          "output_type": "stream",
          "name": "stdout",
          "text": [
            "กรอกค่ารัสมีวงกลม : 1\n",
            "เส้นรอบวงยาว 3.14 หน่วย\n"
          ]
        }
      ]
    }
  ]
}