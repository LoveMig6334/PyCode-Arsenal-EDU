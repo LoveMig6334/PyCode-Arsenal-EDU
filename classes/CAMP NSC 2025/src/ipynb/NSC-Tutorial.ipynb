{
 "cells": [
  {
   "cell_type": "markdown",
   "id": "e982cd35-998e-4735-8824-96b639858efa",
   "metadata": {},
   "source": [
    "# NSC Totorial\n"
   ]
  },
  {
   "cell_type": "markdown",
   "id": "be40b290",
   "metadata": {},
   "source": [
    "First, Import a few libraries that you'll need:\n"
   ]
  },
  {
   "cell_type": "markdown",
   "id": "6a35607b",
   "metadata": {},
   "source": [
    "## Pillow and image loaded\n"
   ]
  },
  {
   "cell_type": "markdown",
   "id": "d99f7fea",
   "metadata": {},
   "source": [
    "Ex.1 : Import `Pillow` and `IPython.display` libraries\n"
   ]
  },
  {
   "cell_type": "code",
   "execution_count": null,
   "id": "8d67a2c2-15ef-40ff-bd2a-49b74e96ad68",
   "metadata": {},
   "outputs": [],
   "source": [
    "from PIL import Image\n",
    "from IPython.display import display\n",
    "\n",
    "img = Image.open(\n",
    "    \"C:/Users/thatt/OneDrive/Documents/Coding Project/Machine-LearningTC/Admin/jupyter/img/pngtree12965439.jpg\"\n",
    ")\n",
    "display(img)"
   ]
  },
  {
   "cell_type": "markdown",
   "id": "22c09d0a",
   "metadata": {},
   "source": [
    "## Numpy and matplotlib\n"
   ]
  },
  {
   "cell_type": "markdown",
   "id": "bd26692d",
   "metadata": {},
   "source": [
    "Ex.2 : Import `numpy` and `matplotlib.pyplot` libraries\n"
   ]
  },
  {
   "cell_type": "code",
   "execution_count": null,
   "id": "3a114584",
   "metadata": {},
   "outputs": [],
   "source": [
    "import matplotlib.pyplot as plt\n",
    "import numpy as np"
   ]
  },
  {
   "cell_type": "markdown",
   "id": "0b58cee1",
   "metadata": {},
   "source": [
    "Ex.3 : create a numpy array and find the sum of the array\n"
   ]
  },
  {
   "cell_type": "code",
   "execution_count": null,
   "id": "38465c45-5d65-4dc6-9576-861340814f04",
   "metadata": {},
   "outputs": [],
   "source": [
    "a = np.array([1, 2, 3])\n",
    "b = np.array([4, 5, 6])\n",
    "\n",
    "sum_ab = a + b\n",
    "print(\"Sum:\", sum_ab)"
   ]
  },
  {
   "cell_type": "markdown",
   "id": "0f6d4b27",
   "metadata": {},
   "source": [
    "Ex.4 : use linespece function to create an array of 100 elements between 0 and 10\n"
   ]
  },
  {
   "cell_type": "code",
   "execution_count": null,
   "id": "38dc9738-afb2-44f0-976e-7bdf768cfbbc",
   "metadata": {},
   "outputs": [],
   "source": [
    "x = np.linspace(0, 10, 100)\n",
    "y = np.sin(x)\n",
    "\n",
    "plt.plot(x, y, color=\"b\", alpha=0.6, label=\"sin(x)\")\n",
    "plt.title(\"Sine Wave\")\n",
    "plt.xlabel(\"x\")\n",
    "plt.ylabel(\"sin (x)\")\n",
    "\n",
    "plt.legend()\n",
    "plt.show()"
   ]
  },
  {
   "cell_type": "code",
   "execution_count": null,
   "id": "94d9ca5c-5534-48c5-833d-e1fe7423ffea",
   "metadata": {},
   "outputs": [],
   "source": [
    "a = np.array([1, 2, 3])\n",
    "\n",
    "print(a)\n",
    "print(type(a))"
   ]
  },
  {
   "cell_type": "code",
   "execution_count": null,
   "id": "d2c3253c-126c-4a05-98bb-c596622fb974",
   "metadata": {},
   "outputs": [],
   "source": [
    "b = np.array([[9.0, 8.0, 7.0], [6.0, 5.0, 4.0]])\n",
    "\n",
    "print(b)\n",
    "print(type(b))"
   ]
  },
  {
   "cell_type": "code",
   "execution_count": null,
   "id": "c17699b1-60dc-4421-b97a-2f0ee222899b",
   "metadata": {},
   "outputs": [],
   "source": [
    "print(type(a[0]))\n",
    "print(type(b[0][0]))"
   ]
  },
  {
   "cell_type": "markdown",
   "id": "0921573b-d5c6-4757-b4a2-1ea84d7f7547",
   "metadata": {},
   "source": [
    "## Find the array Dimensions\n"
   ]
  },
  {
   "cell_type": "markdown",
   "id": "35d987c4",
   "metadata": {},
   "source": [
    "### Get the array member count\n"
   ]
  },
  {
   "cell_type": "code",
   "execution_count": null,
   "id": "1578ed15-88cc-439f-a598-87cb28224c01",
   "metadata": {},
   "outputs": [],
   "source": [
    "print(a.ndim)\n",
    "print(b.ndim)"
   ]
  },
  {
   "cell_type": "markdown",
   "id": "1e8917af-70fb-4137-92f8-ef2d3a20a264",
   "metadata": {},
   "source": [
    "### Get Shape\n"
   ]
  },
  {
   "cell_type": "code",
   "execution_count": null,
   "id": "e5480578-f26f-4a86-8ae0-6deaba28bb01",
   "metadata": {},
   "outputs": [],
   "source": [
    "a.shape\n",
    "b.shape"
   ]
  },
  {
   "cell_type": "markdown",
   "id": "08dda0d0-3b1f-4584-9a84-b9c00651e64e",
   "metadata": {},
   "source": [
    "### Get Size\n"
   ]
  },
  {
   "cell_type": "code",
   "execution_count": null,
   "id": "39ca19c5-758d-477e-8559-444091839eb6",
   "metadata": {},
   "outputs": [],
   "source": [
    "a.size\n",
    "b.size"
   ]
  },
  {
   "cell_type": "markdown",
   "id": "0c332c95-d195-4c30-aae3-9219e41e482e",
   "metadata": {},
   "source": [
    "# Accessing and Modifying\n"
   ]
  },
  {
   "cell_type": "markdown",
   "id": "ea3287cd-5989-4916-9226-54459709e5a4",
   "metadata": {},
   "source": [
    "### Accessing\n"
   ]
  },
  {
   "cell_type": "code",
   "execution_count": null,
   "id": "665939d4-1747-4397-9558-6837be025253",
   "metadata": {},
   "outputs": [],
   "source": [
    "a = np.array(\n",
    "    [\n",
    "        [1, 2, 3, 4, 5, 6, 7],\n",
    "        [8, 9, 10, 11, 12, 13, 14],\n",
    "    ]\n",
    ")\n",
    "\n",
    "\n",
    "print(a)"
   ]
  },
  {
   "cell_type": "code",
   "execution_count": null,
   "id": "48ea3555-dd08-4275-95d6-fd6f6daf9616",
   "metadata": {},
   "outputs": [],
   "source": [
    "a.shape"
   ]
  },
  {
   "cell_type": "code",
   "execution_count": null,
   "id": "74b6da8a-96b4-4f4c-abb3-98cfd48916f0",
   "metadata": {},
   "outputs": [],
   "source": [
    "print(a[1][4])\n",
    "print(a[1, 4])"
   ]
  },
  {
   "cell_type": "code",
   "execution_count": null,
   "id": "02c32948-a935-43e5-9cf5-3d5039651d01",
   "metadata": {},
   "outputs": [],
   "source": [
    "print(a[1])\n",
    "print(a[1, :])"
   ]
  },
  {
   "cell_type": "markdown",
   "id": "04152ab3",
   "metadata": {},
   "source": [
    "Ex.5: access the column 5 of array\n"
   ]
  },
  {
   "cell_type": "code",
   "execution_count": null,
   "id": "d6466b5f-3346-4a56-bc94-1a98dcda9301",
   "metadata": {},
   "outputs": [],
   "source": [
    "a[:, 5]"
   ]
  },
  {
   "cell_type": "code",
   "execution_count": null,
   "id": "84137f92-1855-491b-bd09-8886337c906d",
   "metadata": {},
   "outputs": [],
   "source": [
    "print(list(range(1, 7)))\n",
    "print(list(range(1, 7, 2)))"
   ]
  },
  {
   "cell_type": "code",
   "execution_count": null,
   "id": "cf343b15-ff1f-4bc5-b31b-78caa7efccbe",
   "metadata": {},
   "outputs": [],
   "source": [
    "print(a[0, 1:7:1])\n",
    "print(a[0, 1:7:2])"
   ]
  },
  {
   "cell_type": "markdown",
   "id": "32561ff2-a6bb-472c-9c5b-84a6e4b4f3c1",
   "metadata": {},
   "source": [
    "### Modifying\n"
   ]
  },
  {
   "cell_type": "code",
   "execution_count": null,
   "id": "429d1637-1d47-447b-8873-3ebecdfa400e",
   "metadata": {},
   "outputs": [],
   "source": [
    "a[0, 0] = 20\n",
    "a[0][0] = 21\n",
    "\n",
    "print(a)"
   ]
  },
  {
   "cell_type": "code",
   "execution_count": null,
   "id": "97bb4917-78eb-493d-a5bd-e82d88cdacdd",
   "metadata": {},
   "outputs": [],
   "source": [
    "a[1, 3] = 40\n",
    "\n",
    "print(a)"
   ]
  },
  {
   "cell_type": "code",
   "execution_count": null,
   "id": "93e13732-7b4b-4435-8d49-a9f707694e4a",
   "metadata": {},
   "outputs": [],
   "source": [
    "a[:, 5] = [99, 88]\n",
    "\n",
    "print(a)"
   ]
  },
  {
   "cell_type": "markdown",
   "id": "b0c452f5-5cb5-4a2e-bc01-1121a8349ffa",
   "metadata": {},
   "source": [
    "# Initializing\n"
   ]
  },
  {
   "cell_type": "markdown",
   "id": "245acf0f-370f-4911-87b4-3d11daf02cd9",
   "metadata": {},
   "source": [
    "This creates the array we can see on the right here:\n",
    "\n",
    "![](http://jalammar.github.io/images/numpy/create-numpy-array-1.png)\n"
   ]
  },
  {
   "cell_type": "markdown",
   "id": "9a179c1e-5ff5-49f3-9e7a-eb91104ca575",
   "metadata": {},
   "source": [
    "To create a `numpy` array with more dimensions, we can pass nested lists, like this:\n",
    "\n",
    "![](http://jalammar.github.io/images/numpy/numpy-array-create-2d.png)\n",
    "\n",
    "![](http://jalammar.github.io/images/numpy/numpy-3d-array.png)\n"
   ]
  },
  {
   "cell_type": "markdown",
   "id": "c1db3d92-24f9-4885-b340-7c7691c0dd13",
   "metadata": {},
   "source": [
    "There are often cases when we want numpy to initialize the values of the array for us. numpy provides methods like `ones()`, `zeros()`, and `random.random()` for these cases. We just pass them the number of elements we want it to generate:\n",
    "\n",
    "![](http://jalammar.github.io/images/numpy/create-numpy-array-ones-zeros-random.png)\n"
   ]
  },
  {
   "cell_type": "code",
   "execution_count": null,
   "id": "9d121fab-6f15-46bf-aeba-235b67eb39f7",
   "metadata": {},
   "outputs": [],
   "source": [
    "c = np.ones(5)\n",
    "\n",
    "print(c)"
   ]
  },
  {
   "cell_type": "code",
   "execution_count": null,
   "id": "d328dba5-9a24-4499-b425-1271997bc4d3",
   "metadata": {},
   "outputs": [],
   "source": [
    "d = np.zeros(3)\n",
    "\n",
    "print(d)"
   ]
  },
  {
   "cell_type": "code",
   "execution_count": null,
   "id": "5b6345cf-10b1-496e-af45-aef2ab71d35f",
   "metadata": {},
   "outputs": [],
   "source": [
    "e = np.random.random(4)\n",
    "\n",
    "print(e)"
   ]
  },
  {
   "cell_type": "code",
   "execution_count": null,
   "id": "b82c053a",
   "metadata": {},
   "outputs": [],
   "source": [
    "f = np.random.randint(5, 10, size=(3, 3))\n",
    "\n",
    "print(f)"
   ]
  },
  {
   "cell_type": "markdown",
   "id": "49d649f9-2c0c-4314-9e8e-392584a7d3e1",
   "metadata": {},
   "source": [
    "We can also use these methods to produce multi-dimensional arrays, as long as we pass them a tuple describing the dimensions of the matrix we want to create:\n",
    "\n",
    "![](http://jalammar.github.io/images/numpy/numpy-matrix-ones-zeros-random.png)\n",
    "\n",
    "![](http://jalammar.github.io/images/numpy/numpy-3d-array-creation.png)\n"
   ]
  },
  {
   "cell_type": "code",
   "execution_count": null,
   "id": "86fa739e-44e7-44e2-a96d-949e548f520d",
   "metadata": {},
   "outputs": [],
   "source": [
    "f = np.ones((3, 2))\n",
    "\n",
    "print(f)"
   ]
  },
  {
   "cell_type": "code",
   "execution_count": null,
   "id": "402c9915-872a-4ec9-b916-6de726928ff6",
   "metadata": {},
   "outputs": [],
   "source": [
    "g = np.random.random([4, 3, 2])\n",
    "\n",
    "print(g)"
   ]
  },
  {
   "cell_type": "markdown",
   "id": "1e83e37c-e814-4cbb-b719-023486b51eea",
   "metadata": {},
   "source": [
    "# Importing Matplotlib\n",
    "\n",
    "run `!pip install matplotlib` to install Matplotlib\n"
   ]
  },
  {
   "cell_type": "code",
   "execution_count": null,
   "id": "a1cd5fc6-ccc0-4cc4-8818-448abd4e8f37",
   "metadata": {},
   "outputs": [],
   "source": [
    "import matplotlib.pyplot as plt\n",
    "import numpy as np"
   ]
  },
  {
   "cell_type": "code",
   "execution_count": null,
   "id": "35fd9d35-6679-40b5-a043-49fc4566bff8",
   "metadata": {},
   "outputs": [],
   "source": [
    "a = np.linspace(0, 10, 11)\n",
    "\n",
    "a"
   ]
  },
  {
   "cell_type": "code",
   "execution_count": null,
   "id": "531d6944-d250-46b4-a302-fcac4fe257c5",
   "metadata": {},
   "outputs": [],
   "source": [
    "b = np.linspace(0, 10, 100)\n",
    "\n",
    "b"
   ]
  },
  {
   "cell_type": "code",
   "execution_count": null,
   "id": "c2672e4a-8927-4a97-8b4b-e9f704f3c65c",
   "metadata": {},
   "outputs": [],
   "source": [
    "sin_b = np.sin(b)\n",
    "cos_b = np.cos(b)"
   ]
  },
  {
   "cell_type": "code",
   "execution_count": null,
   "id": "c1775c96-c03c-44e2-a0e4-49f044aee832",
   "metadata": {},
   "outputs": [],
   "source": [
    "fig = plt.figure()\n",
    "\n",
    "plt.title(\"My Figure\")\n",
    "plt.plot(b, sin_b, \"-\")\n",
    "plt.plot(b, cos_b, \"--\")"
   ]
  },
  {
   "cell_type": "code",
   "execution_count": null,
   "id": "d7050441-bcd7-4eae-975c-37c0321b9285",
   "metadata": {},
   "outputs": [],
   "source": [
    "fig.savefig(\"my_figure.png\")"
   ]
  },
  {
   "cell_type": "markdown",
   "id": "21c81b90-1d59-4826-980b-da571e94924b",
   "metadata": {},
   "source": [
    "# Line Colors and Styles\n"
   ]
  },
  {
   "cell_type": "code",
   "execution_count": null,
   "id": "07069968-37bd-4fab-ab03-82063e3708ad",
   "metadata": {},
   "outputs": [],
   "source": [
    "x = np.linspace(0, 10, 100)"
   ]
  },
  {
   "cell_type": "code",
   "execution_count": null,
   "id": "72acd53f-972c-49bd-a2fe-d00726be5e56",
   "metadata": {},
   "outputs": [],
   "source": [
    "fig = plt.figure()\n",
    "plt.plot(x, np.sin(x - 0), color=\"blue\")  # specify color by name\n",
    "plt.plot(x, np.sin(x - 1), color=\"g\")  # short color code (rgbcmyk)\n",
    "plt.plot(x, np.sin(x - 2), color=\"0.75\")  # grayscale between 0 and 1\n",
    "plt.plot(x, np.sin(x - 3), color=\"#FFDD44\")  # hex code (RRGGBB, 00 to FF)\n",
    "plt.plot(x, np.sin(x - 4), color=(1.0, 0.2, 0.3))  # RGB tuple, values 0 to 1\n",
    "plt.plot(x, np.sin(x - 5), color=\"chartreuse\")\n",
    "# HTML color names supported"
   ]
  },
  {
   "cell_type": "code",
   "execution_count": null,
   "id": "49a35a36-21ee-4619-b1fe-a2bd1a2e9bec",
   "metadata": {},
   "outputs": [],
   "source": [
    "plt.plot(x, x + 0, linestyle=\"solid\")\n",
    "plt.plot(x, x + 1, linestyle=\"dashed\")\n",
    "plt.plot(x, x + 2, linestyle=\"dashdot\")\n",
    "plt.plot(x, x + 3, linestyle=\"dotted\")\n",
    "\n",
    "# For short, you can use the following codes:\n",
    "plt.plot(x, x + 4, linestyle=\"-\")  # solid\n",
    "plt.plot(x, x + 5, linestyle=\"--\")  # dashed\n",
    "plt.plot(x, x + 6, linestyle=\"-.\")  # dashdot\n",
    "plt.plot(x, x + 7, linestyle=\":\")\n",
    "# dotted"
   ]
  },
  {
   "cell_type": "code",
   "execution_count": null,
   "id": "597f2a29-92bf-4a37-8291-37282dc095d0",
   "metadata": {},
   "outputs": [],
   "source": [
    "plt.plot(x, x + 2, linestyle=\"dashdot\", color=\"red\")"
   ]
  },
  {
   "cell_type": "markdown",
   "id": "2088b963-db90-4e4d-a3f3-d8ea7fd0adc5",
   "metadata": {},
   "source": [
    "### Axes Limit\n"
   ]
  },
  {
   "cell_type": "code",
   "execution_count": null,
   "id": "2521cc1b-4ea1-463f-a414-b392bb1b492e",
   "metadata": {},
   "outputs": [],
   "source": [
    "plt.plot(x, np.sin(x))"
   ]
  },
  {
   "cell_type": "code",
   "execution_count": null,
   "id": "45a2ad9f-e673-4252-a9f6-ff2dad7d96a6",
   "metadata": {},
   "outputs": [],
   "source": [
    "plt.plot(x, np.sin(x))\n",
    "\n",
    "plt.xlim(2, 6)\n",
    "plt.ylim(-1.5, 1.5)"
   ]
  },
  {
   "cell_type": "markdown",
   "id": "8a09ee83-dfba-45a9-a773-c69ecdad50b4",
   "metadata": {},
   "source": [
    "### Label\n"
   ]
  },
  {
   "cell_type": "code",
   "execution_count": null,
   "id": "5622ed60-5080-45a7-b808-d60e11a463d3",
   "metadata": {},
   "outputs": [],
   "source": [
    "plt.plot(x, np.sin(x))\n",
    "\n",
    "plt.title(\"My Sine Curve\")\n",
    "plt.xlabel(\"x\")\n",
    "plt.ylabel(\"sin(x)\")"
   ]
  },
  {
   "cell_type": "code",
   "execution_count": null,
   "id": "2a715c2f-d66f-4ccb-9924-b2003a40b1de",
   "metadata": {},
   "outputs": [],
   "source": [
    "plt.plot(x, np.sin(x), label=\"sin(x)\")\n",
    "plt.plot(x, np.cos(x), label=\"cos(x)\", linestyle=\"dotted\")\n",
    "\n",
    "plt.title(\"My Curves\")\n",
    "plt.legend()"
   ]
  },
  {
   "cell_type": "markdown",
   "id": "45ed2db1-f9f9-4934-926e-278e4ade431e",
   "metadata": {},
   "source": [
    "# Image Processing\n"
   ]
  },
  {
   "cell_type": "code",
   "execution_count": null,
   "id": "ff4075ed-05b9-4aed-8919-58f39191f783",
   "metadata": {},
   "outputs": [],
   "source": [
    "from PIL import Image\n",
    "from IPython.display import display\n",
    "\n",
    "img = Image.open(\n",
    "    \"C:/Users/thatt/OneDrive/Documents/Coding Project/NSC-AI/src/jupyter/img/pngtree12965439.jpg\"\n",
    ")\n",
    "display(img)"
   ]
  },
  {
   "cell_type": "markdown",
   "id": "21714cea-3977-49f6-b105-fdee149af0fc",
   "metadata": {},
   "source": [
    "### Resize\n"
   ]
  },
  {
   "cell_type": "code",
   "execution_count": null,
   "id": "48954ac8-2703-462e-85a9-af1e95f6eb13",
   "metadata": {},
   "outputs": [],
   "source": [
    "im = np.array(img)\n",
    "\n",
    "print(\"Pixel type:\", im.dtype)\n",
    "print(\"Number of dimensions:\", im.ndim)\n",
    "print(\"Image size:\", im.shape)"
   ]
  },
  {
   "cell_type": "code",
   "execution_count": null,
   "id": "7cb1bc1c-f115-4a36-aaef-700f837a700b",
   "metadata": {},
   "outputs": [],
   "source": [
    "resized_img = img.resize((512, 512))\n",
    "\n",
    "resized_im = np.array(resized_img)\n",
    "\n",
    "print(\"Pixel type:\", resized_im.dtype)\n",
    "print(\"Number of dimensions:\", resized_im.ndim)\n",
    "print(\"Image size:\", resized_im.shape)"
   ]
  },
  {
   "cell_type": "code",
   "execution_count": null,
   "id": "1cf3f719-a8dc-45f8-9ee2-eaba2204c590",
   "metadata": {},
   "outputs": [],
   "source": [
    "Image.fromarray(resized_im)"
   ]
  },
  {
   "cell_type": "code",
   "execution_count": null,
   "id": "61dbcdc0-bce0-49eb-8130-73e582785041",
   "metadata": {},
   "outputs": [],
   "source": [
    "im_R = im.copy()\n",
    "im_R = im_R[:, :, 0]\n",
    "\n",
    "print(\"Pixel type:\", im_R.dtype)\n",
    "print(\"Number of dimensions:\", im_R.ndim)\n",
    "print(\"Image size:\", im_R.shape)\n",
    "\n",
    "Image.fromarray(im_R)"
   ]
  },
  {
   "cell_type": "markdown",
   "id": "ecb62f57-0294-48f1-849e-a3e2d18ecf4d",
   "metadata": {},
   "source": [
    "### Inversion\n"
   ]
  },
  {
   "cell_type": "code",
   "execution_count": null,
   "id": "b799244e-4dfb-4692-83fd-b7e6878d37ca",
   "metadata": {},
   "outputs": [],
   "source": [
    "im_i = 255 - im\n",
    "\n",
    "Image.fromarray(im_i)"
   ]
  },
  {
   "cell_type": "markdown",
   "id": "97d7cdda-e5f0-4416-8487-5cfa7750013d",
   "metadata": {},
   "source": [
    "### Color Reduction\n"
   ]
  },
  {
   "cell_type": "code",
   "execution_count": null,
   "id": "b73f4dc6-f711-41f7-9ccf-76cfdbc9380a",
   "metadata": {},
   "outputs": [],
   "source": [
    "im_32 = im // 16 * 16\n",
    "\n",
    "Image.fromarray(im_32)"
   ]
  },
  {
   "cell_type": "markdown",
   "id": "dcd66f03-fbda-4ba9-b8e7-a91e13394a99",
   "metadata": {},
   "source": [
    "### Binarization\n"
   ]
  },
  {
   "cell_type": "code",
   "execution_count": null,
   "id": "eab3e4ec-e793-49eb-a3be-79096803e9c5",
   "metadata": {},
   "outputs": [],
   "source": [
    "pil_img_2 = (\n",
    "    Image.open(\n",
    "        \"C:/Users/thatt/OneDrive/Documents/Coding Project/MyPyhton/Class/Admin/note/img/pngtree12965439.jpg\"\n",
    "    )\n",
    "    .convert(\"L\")\n",
    "    .resize((256, 256))\n",
    ")\n",
    "\n",
    "\n",
    "im_2 = np.array(pil_img_2)\n",
    "\n",
    "\n",
    "print(\"Pixel type:\", im_2.dtype)\n",
    "\n",
    "\n",
    "print(\"Number of dimensions:\", im_2.ndim)\n",
    "\n",
    "\n",
    "print(\"Image size:\", im_2.shape)\n",
    "\n",
    "\n",
    "Image.fromarray(im_2)"
   ]
  },
  {
   "cell_type": "code",
   "execution_count": null,
   "id": "c615d6bc-42df-438a-a2c2-b308eb501a51",
   "metadata": {},
   "outputs": [],
   "source": [
    "th = 120\n",
    "\n",
    "im_2_bin = (im_2 > th) * 255\n",
    "\n",
    "Image.fromarray(np.uint8(im_2_bin))"
   ]
  }
 ],
 "metadata": {
  "kernelspec": {
   "display_name": ".venv",
   "language": "python",
   "name": "python3"
  },
  "language_info": {
   "codemirror_mode": {
    "name": "ipython",
    "version": 3
   },
   "file_extension": ".py",
   "mimetype": "text/x-python",
   "name": "python",
   "nbconvert_exporter": "python",
   "pygments_lexer": "ipython3",
   "version": "3.12.8"
  }
 },
 "nbformat": 4,
 "nbformat_minor": 5
}
