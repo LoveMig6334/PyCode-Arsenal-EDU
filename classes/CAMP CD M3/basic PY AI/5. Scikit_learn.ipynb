{
 "cells": [
  {
   "cell_type": "markdown",
   "metadata": {
    "id": "aYRsYW20GAsQ"
   },
   "source": [
    "# Scikitlearn 101"
   ]
  },
  {
   "cell_type": "code",
   "execution_count": 60,
   "metadata": {
    "id": "-7DKgfgjGspW"
   },
   "outputs": [],
   "source": [
    "import numpy as np\n",
    "import pandas as pd\n",
    "import matplotlib.pyplot as plt\n",
    "from sklearn.linear_model import LinearRegression"
   ]
  },
  {
   "cell_type": "code",
   "execution_count": null,
   "metadata": {
    "id": "ZD2-ZKXnvhCm"
   },
   "outputs": [],
   "source": [
    "x = np.array([1, 2, 3, 4, 5, 6, 7, 8, 9, 10])\n",
    "y = x * 1.25\n",
    "\n",
    "print(x)\n",
    "print(y)"
   ]
  },
  {
   "cell_type": "code",
   "execution_count": null,
   "metadata": {
    "colab": {
     "base_uri": "https://localhost:8080/",
     "height": 447
    },
    "id": "3sZuD9ZYvhIq",
    "outputId": "4c5bf1d8-4102-43b8-d0dc-8dc94b83e9bc"
   },
   "outputs": [],
   "source": [
    "plt.scatter(x, y)\n",
    "plt.show()"
   ]
  },
  {
   "cell_type": "code",
   "execution_count": null,
   "metadata": {
    "id": "NCaY0nDeIESt"
   },
   "outputs": [],
   "source": [
    "x = x.reshape(-1, 1)\n",
    "\n",
    "print(x)"
   ]
  },
  {
   "cell_type": "code",
   "execution_count": null,
   "metadata": {
    "colab": {
     "base_uri": "https://localhost:8080/",
     "height": 80
    },
    "id": "jZz_i06OvhPh",
    "outputId": "7becd018-c217-4be2-adb6-a6c64e1ca530"
   },
   "outputs": [],
   "source": [
    "model = LinearRegression()\n",
    "model.fit(x, y)"
   ]
  },
  {
   "cell_type": "code",
   "execution_count": null,
   "metadata": {
    "colab": {
     "base_uri": "https://localhost:8080/"
    },
    "id": "OkMHeVpLIBJS",
    "outputId": "02add2d6-92ee-481d-c5b8-59fdf1b628d0"
   },
   "outputs": [],
   "source": [
    "pred = model.predict(x)  # predict the result\n",
    "pred"
   ]
  },
  {
   "cell_type": "code",
   "execution_count": null,
   "metadata": {
    "colab": {
     "base_uri": "https://localhost:8080/",
     "height": 447
    },
    "id": "kgXeNcCxIQP6",
    "outputId": "849f3139-c40a-43d8-f55d-93c5424dba1b"
   },
   "outputs": [],
   "source": [
    "plt.plot(x, pred, color=\"r\", alpha=0.8)\n",
    "plt.scatter(x, y, alpha=0.8)\n",
    "\n",
    "plt.legend([\"Predicted Line\", \"Observed Data\"])\n",
    "plt.grid(True, linestyle=\"--\", color=\"gray\", linewidth=0.5, alpha=0.6)\n",
    "plt.show()"
   ]
  },
  {
   "cell_type": "code",
   "execution_count": null,
   "metadata": {
    "colab": {
     "base_uri": "https://localhost:8080/"
    },
    "id": "vbte_XLKI-8O",
    "outputId": "7f33a9c1-26bc-40e7-a17e-c05027af7cd4"
   },
   "outputs": [],
   "source": [
    "model.predict([[5]])"
   ]
  },
  {
   "cell_type": "markdown",
   "metadata": {
    "id": "hcLG4gUqI8yv"
   },
   "source": [
    "# Temp regression"
   ]
  },
  {
   "cell_type": "code",
   "execution_count": 68,
   "metadata": {
    "id": "UbkCNYK_y091"
   },
   "outputs": [],
   "source": [
    "from sklearn.metrics import mean_squared_error\n",
    "from sklearn.model_selection import train_test_split"
   ]
  },
  {
   "cell_type": "code",
   "execution_count": null,
   "metadata": {
    "colab": {
     "base_uri": "https://localhost:8080/"
    },
    "id": "klDD4tgkIeIX",
    "outputId": "118ccec5-794a-4bd2-d28a-d20ce67335e5"
   },
   "outputs": [],
   "source": [
    "df = pd.read_csv(\n",
    "    \"C:/Users/thatt/Documents/Coding Project/PyBasic Learn/main/class/data/Weather.csv\"\n",
    ")"
   ]
  },
  {
   "cell_type": "code",
   "execution_count": null,
   "metadata": {
    "colab": {
     "base_uri": "https://localhost:8080/",
     "height": 342
    },
    "id": "Xb8_9G6gKFXO",
    "outputId": "942ebfc2-d06c-41ae-da7d-6b71b2c15810"
   },
   "outputs": [],
   "source": [
    "df.head()"
   ]
  },
  {
   "cell_type": "code",
   "execution_count": 71,
   "metadata": {
    "id": "iTX_ZsE6KG7B"
   },
   "outputs": [],
   "source": [
    "x_temp = df[[\"MinTemp\"]]\n",
    "y_temp = df[[\"MaxTemp\"]]"
   ]
  },
  {
   "cell_type": "code",
   "execution_count": 72,
   "metadata": {
    "id": "O6BKg3V2ydHr"
   },
   "outputs": [],
   "source": [
    "x_train, x_test, y_train, y_test = train_test_split(x_temp, y_temp, random_state=123)"
   ]
  },
  {
   "cell_type": "code",
   "execution_count": null,
   "metadata": {
    "colab": {
     "base_uri": "https://localhost:8080/",
     "height": 80
    },
    "id": "z8VIXzl9KYVe",
    "outputId": "25ea722f-5990-4261-c616-a0e7964f582a"
   },
   "outputs": [],
   "source": [
    "model = LinearRegression()\n",
    "model.fit(x_train, y_train)"
   ]
  },
  {
   "cell_type": "code",
   "execution_count": 74,
   "metadata": {
    "id": "DP-PPh11K0RR"
   },
   "outputs": [],
   "source": [
    "pred = model.predict(x_test)"
   ]
  },
  {
   "cell_type": "code",
   "execution_count": null,
   "metadata": {
    "colab": {
     "base_uri": "https://localhost:8080/",
     "height": 447
    },
    "id": "OP7ffA-KKo_p",
    "outputId": "78a4d6da-0939-4464-a59a-597b2a027a5a"
   },
   "outputs": [],
   "source": [
    "plt.plot(x_test, pred, color=\"r\")\n",
    "plt.scatter(x_test, y_test, alpha=0.7)\n",
    "\n",
    "\n",
    "plt.grid(True, linestyle=\"--\", color=\"gray\", linewidth=0.5, alpha=0.6)\n",
    "plt.legend([\"Predicted Line\", \"Observed Data\"])\n",
    "plt.show()"
   ]
  },
  {
   "cell_type": "code",
   "execution_count": null,
   "metadata": {
    "colab": {
     "base_uri": "https://localhost:8080/"
    },
    "id": "5afnk_aUK-9U",
    "outputId": "9f579f54-0895-4ab2-c8ba-cbe70e4c5682"
   },
   "outputs": [],
   "source": [
    "print(np.sqrt(mean_squared_error(pred, y_test)))"
   ]
  },
  {
   "cell_type": "markdown",
   "metadata": {
    "id": "KJRxehYpNMHb"
   },
   "source": [
    "# Iris classification"
   ]
  },
  {
   "cell_type": "code",
   "execution_count": 77,
   "metadata": {
    "id": "7FBX4OVPORgy"
   },
   "outputs": [],
   "source": [
    "from sklearn.tree import DecisionTreeClassifier\n",
    "from sklearn.metrics import accuracy_score"
   ]
  },
  {
   "cell_type": "code",
   "execution_count": 78,
   "metadata": {
    "id": "DuYyE3I5NSFo"
   },
   "outputs": [],
   "source": [
    "df = pd.read_csv(\n",
    "    \"C:/Users/thatt/Documents/Coding Project/PyBasic Learn/main/class/data/iris.csv\"\n",
    ")"
   ]
  },
  {
   "cell_type": "code",
   "execution_count": null,
   "metadata": {
    "colab": {
     "base_uri": "https://localhost:8080/",
     "height": 206
    },
    "id": "gM7sALGHNhZz",
    "outputId": "6943912b-0fe8-4194-f445-ed0d4c4867ab"
   },
   "outputs": [],
   "source": [
    "df.head()"
   ]
  },
  {
   "cell_type": "code",
   "execution_count": 80,
   "metadata": {
    "id": "2ZvQvbOxNxT3"
   },
   "outputs": [],
   "source": [
    "x = df[[\"sepal.length\", \"sepal.width\", \"petal.length\", \"petal.width\"]]\n",
    "y = df[\"variety\"]"
   ]
  },
  {
   "cell_type": "code",
   "execution_count": 81,
   "metadata": {
    "id": "Avf7CsJJzrim"
   },
   "outputs": [],
   "source": [
    "x_train, x_test, y_train, y_test = train_test_split(x, y, random_state=123)"
   ]
  },
  {
   "cell_type": "code",
   "execution_count": null,
   "metadata": {
    "colab": {
     "base_uri": "https://localhost:8080/"
    },
    "id": "zLiA_ri2OE9A",
    "outputId": "b69b21e5-22a7-47f4-d8c5-a4332588461f"
   },
   "outputs": [],
   "source": [
    "model = DecisionTreeClassifier()\n",
    "model.fit(x_train, y_train)"
   ]
  },
  {
   "cell_type": "code",
   "execution_count": null,
   "metadata": {
    "colab": {
     "base_uri": "https://localhost:8080/"
    },
    "id": "Ox6KCLdxOZzv",
    "outputId": "65948a5b-944d-430e-d71a-f85d7a1fe1e5"
   },
   "outputs": [],
   "source": [
    "pred = model.predict(x_test)\n",
    "pred"
   ]
  },
  {
   "cell_type": "code",
   "execution_count": null,
   "metadata": {
    "colab": {
     "base_uri": "https://localhost:8080/"
    },
    "id": "OYskC-xrz9D-",
    "outputId": "e19506df-c017-490f-9979-291539056936"
   },
   "outputs": [],
   "source": [
    "y_test"
   ]
  },
  {
   "cell_type": "code",
   "execution_count": null,
   "metadata": {},
   "outputs": [],
   "source": [
    "# Calculate accuracy\n",
    "accuracy = accuracy_score(y_test, pred)\n",
    "print(accuracy)\n",
    "# Plot the accuracy\n",
    "\n",
    "plt.figure(figsize=(6, 4))\n",
    "plt.ylim(0, 1.2)\n",
    "plt.bar([\"Accuracy\"], [accuracy], color=\"blue\", alpha=0.6)\n",
    "\n",
    "plt.ylabel(\"Accuracy\")\n",
    "plt.title(\"Accuracy of Iris Classifier Model\")\n",
    "\n",
    "plt.grid(True, linestyle=\"--\", color=\"gray\", linewidth=0.5, alpha=0.6)\n",
    "plt.legend([\"Accuracy\"])\n",
    "plt.show()"
   ]
  }
 ],
 "metadata": {
  "colab": {
   "provenance": []
  },
  "kernelspec": {
   "display_name": ".venv",
   "language": "python",
   "name": "python3"
  },
  "language_info": {
   "codemirror_mode": {
    "name": "ipython",
    "version": 3
   },
   "file_extension": ".py",
   "mimetype": "text/x-python",
   "name": "python",
   "nbconvert_exporter": "python",
   "pygments_lexer": "ipython3",
   "version": "3.12.8"
  }
 },
 "nbformat": 4,
 "nbformat_minor": 0
}
