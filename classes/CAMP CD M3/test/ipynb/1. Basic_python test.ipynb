{
 "cells": [
  {
   "cell_type": "markdown",
   "metadata": {
    "id": "VKR-JClDt3eW"
   },
   "source": [
    "# Test"
   ]
  },
  {
   "cell_type": "markdown",
   "metadata": {
    "id": "XkjHJ_0MuAO9"
   },
   "source": [
    "## โจทย์ที่ 0 (ตัวอย่าง) แปลงปีพุทธศักราช\n",
    "จงเขียนโค้ดเพื่อเติมฟังก์ชั่นให้สมบูรณ์ โดยมี `input` เป็นปีพุทธศักราช และให้ทำการแสดงผลออกมาเป็นคริสต์ศักราช\n",
    "\n",
    "---\n",
    "\n",
    "**ตัวอย่าง**\n",
    "\n",
    "* input   -->  output\n",
    "* 2548    -->  2005\n",
    "* 2543    -->  2000"
   ]
  },
  {
   "cell_type": "code",
   "execution_count": null,
   "metadata": {},
   "outputs": [],
   "source": [
    "def calculate_year(input: int) -> int:\n",
    "    if input <= 0:\n",
    "        return 0\n",
    "\n",
    "    return input - 543"
   ]
  },
  {
   "cell_type": "code",
   "execution_count": null,
   "metadata": {
    "colab": {
     "base_uri": "https://localhost:8080/"
    },
    "executionInfo": {
     "elapsed": 1086,
     "status": "ok",
     "timestamp": 1729503477038,
     "user": {
      "displayName": "ธรรศ บุนนาค",
      "userId": "10254962030361458836"
     },
     "user_tz": -420
    },
    "id": "i1r5CdyhvmLY",
    "outputId": "e1235b60-c59d-4811-e6f0-93277b873882"
   },
   "outputs": [],
   "source": [
    "# ตรวจคำตอบ\n",
    "\n",
    "\n",
    "def test_calculate_year():\n",
    "    assert calculate_year(2548) == 2005\n",
    "    assert calculate_year(2520) == 1977\n",
    "    assert calculate_year(1935) == 1392\n",
    "    assert calculate_year(-20) == 0\n",
    "    print(\"==== Test OK ====\")\n",
    "\n",
    "\n",
    "test_calculate_year()"
   ]
  },
  {
   "cell_type": "markdown",
   "metadata": {
    "id": "DCfViXEzwr0a"
   },
   "source": [
    "## โจทย์ 1 คำนวณ\n",
    "จงเขียนโค้ดเพื่อเติมฟังก์ชั่นให้สมบูรณ์จากสมการ ${c = 0.5(a + 2b^5)}$ โดยที่มี `input` เป็น a และ b"
   ]
  },
  {
   "cell_type": "code",
   "execution_count": null,
   "metadata": {},
   "outputs": [],
   "source": [
    "def findC(a: float, b: float) -> float:\n",
    "    c = (0.5 * a) + (b**5)\n",
    "    return c"
   ]
  },
  {
   "cell_type": "code",
   "execution_count": null,
   "metadata": {
    "id": "APzR2_-dyjCY"
   },
   "outputs": [],
   "source": [
    "# ตรวจคำตอบ\n",
    "\n",
    "\n",
    "def test_findC():\n",
    "    assert findC(1, 2.5) == 98.15625, f\"Your answer is {findC(1, 2.5)}\"\n",
    "    assert findC(5, 125) == 30517578127.5, f\"Your answer is {findC(5, 125)}\"\n",
    "    assert findC(0.5, 10) == 100000.25, f\"Your answer is {findC(0.5, 10)}\"\n",
    "    assert findC(0, 0) == 0.0, f\"Your answer is {findC(0, 0)}\"\n",
    "    print(\"==== Test OK ====\")\n",
    "\n",
    "\n",
    "test_findC()"
   ]
  },
  {
   "cell_type": "markdown",
   "metadata": {
    "id": "aIl_fJei9v_s"
   },
   "source": [
    "## โจทย์ 2 หลากรูปทรง"
   ]
  },
  {
   "cell_type": "markdown",
   "metadata": {
    "id": "xGicKP-r-6b_"
   },
   "source": [
    "ให้สร้างฟังก์ชั่่นให้สมบูรณ์ โดยให้ผู้ใช้เลือกหมายเลขสูตรที่ต้องการคำนวน ซึ่งจะคำนวนจากinputสองตัว คือ a กับ b\n",
    "\n",
    "\n",
    "---\n",
    "\n",
    "* สูตรที่1 สูตรคำนวนหาพื้นที่วงกลม โดยให้ a แทนรัศมี b ไม่ต้องเอามาคิด\n",
    "* สูตรที่2 สูตรคำนวนหาพื้นที่สี่เหลี่ยม โดยให้ a แทนความกว้าง b แทนความยาว\n",
    "* สูตรที่3 คำนวนพื้นที่สี่เหลี่ยมคางหมู โดยให้ a แทนผลบวกด้านคู่ขนาน b แทนความสูง\n",
    "* ถ้ากรอกเลขสูตรอื่นให้พิมพ์คำว่า 'error please try again'"
   ]
  },
  {
   "cell_type": "code",
   "execution_count": null,
   "metadata": {
    "executionInfo": {
     "elapsed": 403,
     "status": "ok",
     "timestamp": 1729560812647,
     "user": {
      "displayName": "ธรรศ บุนนาค",
      "userId": "10254962030361458836"
     },
     "user_tz": -420
    },
    "id": "Z_sd4Mn7AQpu"
   },
   "outputs": [],
   "source": [
    "def cal_menu(menu, a, b) -> float:\n",
    "    if menu == 1:\n",
    "        return (22 / 7) * (a**2)\n",
    "    elif menu == 2:\n",
    "        return a * b\n",
    "    elif menu == 3:\n",
    "        return 0.5 * a * b\n",
    "    else:\n",
    "        return \"error please try again\""
   ]
  },
  {
   "cell_type": "code",
   "execution_count": null,
   "metadata": {
    "colab": {
     "base_uri": "https://localhost:8080/"
    },
    "executionInfo": {
     "elapsed": 375,
     "status": "ok",
     "timestamp": 1729560816405,
     "user": {
      "displayName": "ธรรศ บุนนาค",
      "userId": "10254962030361458836"
     },
     "user_tz": -420
    },
    "id": "SfDhgGCAAQxS",
    "outputId": "e5ebf60b-3e57-45f3-84ba-20ad1fa2848a"
   },
   "outputs": [],
   "source": [
    "# ตรวจคำตอบ\n",
    "\n",
    "\n",
    "def test_cal_menu():\n",
    "    assert cal_menu(1, 7, 5) == 154\n",
    "    assert cal_menu(2, 5, 4) == 20\n",
    "    assert cal_menu(2, 2.5, 10) == 25\n",
    "    assert cal_menu(3, 5, 10) == 25\n",
    "    assert cal_menu(69, 5, 10) == \"error please try again\"\n",
    "    print(\"==== Test OK ====\")\n",
    "\n",
    "\n",
    "test_cal_menu()"
   ]
  },
  {
   "cell_type": "markdown",
   "metadata": {
    "id": "0vvmF5cp8Cxw"
   },
   "source": [
    "## โจทย์ 3 ค่าทีมากที่สุด\n"
   ]
  },
  {
   "cell_type": "markdown",
   "metadata": {
    "id": "62wP3a8X8Wj4"
   },
   "source": [
    "ให้สร้างฟังก์ชั่นให้สมบูรณ์โดยรับค่าสามตัวและหาค่าที่มากที่สุดของสามตัวนั้น\n",
    "\n",
    "---\n",
    "\n",
    "ตัวอย่าง\n",
    "\n",
    "\n",
    "* input   --  output\n",
    "* 1,2,5           -- 5\n",
    "* 3,7,9         --  9"
   ]
  },
  {
   "cell_type": "code",
   "execution_count": null,
   "metadata": {},
   "outputs": [],
   "source": [
    "def find_big(a, b, c):\n",
    "    return max(a, b, c)"
   ]
  },
  {
   "cell_type": "code",
   "execution_count": null,
   "metadata": {
    "colab": {
     "base_uri": "https://localhost:8080/"
    },
    "executionInfo": {
     "elapsed": 1,
     "status": "ok",
     "timestamp": 1729504889509,
     "user": {
      "displayName": "ธรรศ บุนนาค",
      "userId": "10254962030361458836"
     },
     "user_tz": -420
    },
    "id": "9xOq0iUJ89hY",
    "outputId": "ff18300d-5b2b-402d-ea39-43380bd90459"
   },
   "outputs": [],
   "source": [
    "# ตรวจคำตอบ\n",
    "\n",
    "\n",
    "def test_find_big():\n",
    "    assert find_big(1, 2, 5) == 5\n",
    "    assert find_big(-5, 125, 8) == 125\n",
    "    assert find_big(0.5, 10, 9.5) == 10\n",
    "    print(\"==== Test OK ====\")\n",
    "\n",
    "\n",
    "test_find_big()"
   ]
  },
  {
   "cell_type": "markdown",
   "metadata": {
    "id": "U5fELTot15sf"
   },
   "source": [
    "## โจทย์ 4 การไฟฟ้า"
   ]
  },
  {
   "cell_type": "markdown",
   "metadata": {
    "id": "LPdSnwaU2dgj"
   },
   "source": [
    "จงเขียนโค้ดเพื่อเติมฟังก์ชั่นให้สมบูรณ์เพื่อช่วยกรไฟฟ้าในการคำนวนเงินที่ประชาชนต้องจ่ายให้กับการไฟฟ้า โดยให้คิดค่าไฟฟ้าในระยะเวลา1เดือน โดยแบ่งเป็นสองประเภท\n",
    "\n",
    "\n",
    "---\n",
    "\n",
    "\n",
    "* ประเภทที่1 การใช้ไฟฟ้าไม่เกิน 150 หน่วยต่อเดือน\n",
    "* 5 หน่วยแรก (หน่วยที่ 1-5) คิดเป็นเงินหน่วยละ 0.00 บาท\n",
    "* 10 หน่วยต่อไป (หน่วยที่6-15) คิดเป็นเงินหน่วยละ 15 บาท\n",
    "* ที่เหลือคิดเป็นเงินหน่วยละ20บาท\n",
    "---\n",
    "* ประเภทที่2 การใช้ไฟฟ้ามากกว่า 150หน่วยต่อเดือน\n",
    "* 50 หน่วยแรก (หน่วยที่ 1-50) คิดเป็นเงินหน่วยละ 10 บาท\n",
    "* 100 หน่วยต่อไป (หน่วยที่ 51-150) คิดเป็นเงินหน่วยละ 17.5บาท\n",
    "* ที่เหลือคิดเป็นเงินหน่วยละ30บาท\n",
    "* โดยประเภทที่2ต้องจ่ายเงินให้การไฟฟ้าเพิ่มอีก15%ของค่าไฟฟ้า\n",
    "---\n",
    "ให้return ค่าออกมาเป็นค่าใช้จ่ายทั้งหมดที่ต้องจ่ายให้การไฟฟ้า\n"
   ]
  },
  {
   "cell_type": "code",
   "execution_count": null,
   "metadata": {
    "colab": {
     "base_uri": "https://localhost:8080/"
    },
    "executionInfo": {
     "elapsed": 376,
     "status": "ok",
     "timestamp": 1729565703602,
     "user": {
      "displayName": "ธรรศ บุนนาค",
      "userId": "10254962030361458836"
     },
     "user_tz": -420
    },
    "id": "SfpUDEEtH7NH",
    "outputId": "c30de89f-f4b2-4332-a5fb-04771bdabd1f"
   },
   "outputs": [],
   "source": [
    "def energy(unit: float) -> float:\n",
    "    if unit <= 150:\n",
    "        if unit <= 5:\n",
    "            return 0\n",
    "\n",
    "        elif unit <= 15:\n",
    "            unit -= 5\n",
    "            return unit * 15\n",
    "\n",
    "        elif unit > 15:\n",
    "            unit -= 15\n",
    "            return 150 + (unit * 20)\n",
    "    unit -= 150\n",
    "    p = 2250 + (unit * 30)\n",
    "\n",
    "    return p + (p * 15 / 100)"
   ]
  },
  {
   "cell_type": "code",
   "execution_count": null,
   "metadata": {
    "colab": {
     "base_uri": "https://localhost:8080/"
    },
    "executionInfo": {
     "elapsed": 392,
     "status": "ok",
     "timestamp": 1729521157191,
     "user": {
      "displayName": "ธรรศ บุนนาค",
      "userId": "10254962030361458836"
     },
     "user_tz": -420
    },
    "id": "sdTl_jHPiB0T",
    "outputId": "7f527e86-4206-40a2-d665-5e843059bc6a"
   },
   "outputs": [],
   "source": [
    "# ตรวจคำตอบ\n",
    "\n",
    "\n",
    "def test_energy():\n",
    "    assert energy(3) == 0\n",
    "    assert energy(12) == 105\n",
    "    assert energy(112) == 2090\n",
    "    assert energy(185) == 3795.0\n",
    "    assert energy(220) == 5002.5\n",
    "    assert energy(2500) == 83662.5\n",
    "    print(\"==== Test OK ====\")\n",
    "\n",
    "\n",
    "test_energy()"
   ]
  },
  {
   "cell_type": "markdown",
   "metadata": {
    "id": "VHTKB-oiIozK"
   },
   "source": [
    "## โจทย์ที่ 5 ทอนเงิน"
   ]
  },
  {
   "cell_type": "markdown",
   "metadata": {
    "id": "3ojvNVrxIu9G"
   },
   "source": [
    "ให้เติมฟังก์ชั่นหาจำนวนแบงค์ในการทอนเงินให้สมบูรณ์ โดยที่ เมื่อรับอินพุตเป็นจำนวนเงินให้คำนวนoutputออกมาว่าต้องใช้แบงค์อะไรบ้างกี่แบงค์ถึงจะได้ตามจำนวนเงินทอน โดยถ้าเหลือเงินที่ต้องทอนน้อยกว่า20ก็ไม่ต้องทอน โดยให้คืนค่า5ค่าคือ\n",
    "* จำนวนแบงค์พัน\n",
    "* จำนวนแบงค์ห้าร้อย\n",
    "* จำนวนแบงค์ร้อย\n",
    "* จำนวนแบงค์ห้าสิบ\n",
    "* จำนวนแบงค์ยี่สิบ\n",
    "* ตัวอย่าง\n",
    "\n",
    "---\n",
    "\n",
    "* input -- output\n",
    "* 3150 -- 3 0 1 1 0\n",
    "* 2500 -- 2 1 0 0 0\n",
    "* 20 -- 0 0 0 0 2\n",
    "* 210 -- 0 0 2 0 0\n",
    "* 10 -- 0 0 0 0 0\n"
   ]
  },
  {
   "cell_type": "code",
   "execution_count": null,
   "metadata": {
    "colab": {
     "base_uri": "https://localhost:8080/"
    },
    "executionInfo": {
     "elapsed": 854,
     "status": "ok",
     "timestamp": 1729560564503,
     "user": {
      "displayName": "ธรรศ บุนนาค",
      "userId": "10254962030361458836"
     },
     "user_tz": -420
    },
    "id": "Aexs8ZzWlv8P",
    "outputId": "fe4da639-bf61-4d57-9c71-e99f3d69f03e"
   },
   "outputs": [],
   "source": [
    "def find_money(money: int) -> tuple:\n",
    "    lst: list[int] = [1000, 500, 100, 50, 20]\n",
    "\n",
    "    result = []\n",
    "    for i in lst:\n",
    "        result.append(money // i)\n",
    "        money %= i\n",
    "\n",
    "    return tuple(result)"
   ]
  },
  {
   "cell_type": "code",
   "execution_count": null,
   "metadata": {
    "colab": {
     "base_uri": "https://localhost:8080/"
    },
    "executionInfo": {
     "elapsed": 3,
     "status": "ok",
     "timestamp": 1729560565463,
     "user": {
      "displayName": "ธรรศ บุนนาค",
      "userId": "10254962030361458836"
     },
     "user_tz": -420
    },
    "id": "96r0y-Oxn62l",
    "outputId": "7ff8c8c2-21d2-4b5f-d1e3-f3055fdef552"
   },
   "outputs": [],
   "source": [
    "# ตรวจคำตอบ\n",
    "\n",
    "\n",
    "def test_money():\n",
    "    assert find_money(3150) == (3, 0, 1, 1, 0)\n",
    "    assert find_money(2500) == (2, 1, 0, 0, 0)\n",
    "    assert find_money(10) == (0, 0, 0, 0, 0)\n",
    "    assert find_money(210) == (0, 0, 2, 0, 0)\n",
    "    print(\"==== Test OK ====\")\n",
    "\n",
    "\n",
    "test_money()"
   ]
  },
  {
   "cell_type": "markdown",
   "metadata": {
    "id": "0O35F80tn6Uj"
   },
   "source": [
    "## โจทย์ 6 สูตรคูณ"
   ]
  },
  {
   "cell_type": "markdown",
   "metadata": {
    "id": "LXNCUoxhn-1A"
   },
   "source": [
    "ให้สร้างฟังก์ชั่นในการสร้างแม่สูตรคูณ โดยที่รับค่าสองค่า แม่เริ่มต้น และแม่สุดท้าย โดยที่ให้แสดงผลแม่สูตรคูณตั้งแต่แม่แรกถึงแม่สุดท้าย"
   ]
  },
  {
   "cell_type": "code",
   "execution_count": null,
   "metadata": {},
   "outputs": [],
   "source": [
    "def masuknoon(a: int, b: int):\n",
    "    for i in range(a, b + 1):\n",
    "        for j in range(1, 13):\n",
    "            print(i, \"*\", j, \"=\", i * j)\n",
    "        print(\"\")"
   ]
  },
  {
   "cell_type": "code",
   "execution_count": null,
   "metadata": {
    "colab": {
     "base_uri": "https://localhost:8080/"
    },
    "executionInfo": {
     "elapsed": 706,
     "status": "ok",
     "timestamp": 1665870944104,
     "user": {
      "displayName": "ธนกฤษ สายพันธ์",
      "userId": "00200388542654299732"
     },
     "user_tz": -420
    },
    "id": "tMem4Gxvo8BP",
    "outputId": "ad7e594f-5071-4e76-bbf6-6715bda387e5"
   },
   "outputs": [],
   "source": [
    "masuknoon(5, 10)  # ควรจะออกมาเป็นแม่5ถึงแม่10"
   ]
  },
  {
   "cell_type": "markdown",
   "metadata": {
    "id": "iG2qslcIqFsU"
   },
   "source": [
    "## โจทย์ 7 พีระมิด"
   ]
  },
  {
   "cell_type": "markdown",
   "metadata": {
    "id": "Jbftumtcq1m0"
   },
   "source": [
    "ให้เติมฟังก์ชั่นให้สมบูรณ์โดยให้สร้างพีระมิดโดยมีจำนวนแถวตามค่ารับเข้า"
   ]
  },
  {
   "cell_type": "code",
   "execution_count": null,
   "metadata": {},
   "outputs": [],
   "source": [
    "def pyramid(n: int):\n",
    "    gap = n - 1\n",
    "    for i in range(1, n + 1):\n",
    "        print(\" \" * gap, end=\"\")\n",
    "        print(\"* \" * i)\n",
    "        gap -= 1"
   ]
  },
  {
   "cell_type": "code",
   "execution_count": null,
   "metadata": {
    "colab": {
     "base_uri": "https://localhost:8080/"
    },
    "executionInfo": {
     "elapsed": 546,
     "status": "ok",
     "timestamp": 1665871696963,
     "user": {
      "displayName": "ธนกฤษ สายพันธ์",
      "userId": "00200388542654299732"
     },
     "user_tz": -420
    },
    "id": "wJO_JDLmrkC_",
    "outputId": "d76c7433-c8f6-4d22-cb28-1a5576f6296c"
   },
   "outputs": [],
   "source": [
    "pyramid(5)  # ควรจะออกมาแบบนี้"
   ]
  }
 ],
 "metadata": {
  "colab": {
   "collapsed_sections": [
    "v7mYBv4KsZR9"
   ],
   "provenance": [
    {
     "file_id": "18T9zxO4jGtgxib8fHfzLA6D9JrcE5r5h",
     "timestamp": 1729495521815
    }
   ],
   "toc_visible": true
  },
  "kernelspec": {
   "display_name": ".venv",
   "language": "python",
   "name": "python3"
  },
  "language_info": {
   "codemirror_mode": {
    "name": "ipython",
    "version": 3
   },
   "file_extension": ".py",
   "mimetype": "text/x-python",
   "name": "python",
   "nbconvert_exporter": "python",
   "pygments_lexer": "ipython3",
   "version": "3.13.3"
  }
 },
 "nbformat": 4,
 "nbformat_minor": 0
}
