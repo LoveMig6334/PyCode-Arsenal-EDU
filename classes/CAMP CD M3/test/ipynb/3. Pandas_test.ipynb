{
 "cells": [
  {
   "cell_type": "code",
   "execution_count": 1,
   "metadata": {
    "executionInfo": {
     "elapsed": 1174,
     "status": "ok",
     "timestamp": 1729579528845,
     "user": {
      "displayName": "ธรรศ บุนนาค",
      "userId": "10254962030361458836"
     },
     "user_tz": -420
    },
    "id": "fenc7FgIRgxz"
   },
   "outputs": [],
   "source": [
    "import numpy as np\n",
    "import pandas as pd"
   ]
  },
  {
   "cell_type": "markdown",
   "metadata": {
    "id": "DPjaopW6WLEW"
   },
   "source": [
    "# ข้อมูลงานกีฬาสีของนักเรียนมัธยม\n",
    "\n",
    "เราสนใจข้อมูลสถิติการแข่งกีฬาของโรงเรียนแห่งหนึ่ง ซึ่งมีคอลัมน์ดังต่อไปนี้\n",
    "\n",
    "- `first_name` : ชื่อต้น\n",
    "- `last_name` : นามสกุล\n",
    "- `class` : ชั้นเรียน มีค่าตั้งแต่ 7 ถึง 12\n",
    "- `team_color` : ทีมกีฬาสีจากทั้งหมด 4 ทีม\n",
    "- `100m_running_sec` : เวลาที่ใช้วิ่งระยะ 100 เมตร ในหน่วยวินาที\n",
    "- `minigolf_strokes` : จำนวนสโตร์กในกีฬามินิกอล์ฟ\n",
    "- `high_jump_cm` : ความสูงที่กระโดดได้ในกีฬากระโดดสูง ในหน่วยเซนติเมตร\n",
    "- `bowling_score` : คะแนนที่ได้จากการเล่นเกมโบว์ลิ่ง"
   ]
  },
  {
   "cell_type": "code",
   "execution_count": 2,
   "metadata": {
    "executionInfo": {
     "elapsed": 395,
     "status": "ok",
     "timestamp": 1729579563774,
     "user": {
      "displayName": "ธรรศ บุนนาค",
      "userId": "10254962030361458836"
     },
     "user_tz": -420
    },
    "id": "E0FzgqJeSBpq"
   },
   "outputs": [],
   "source": [
    "Sport_day_DF = pd.read_csv(\n",
    "    \"https://raw.githubusercontent.com/ai-builders/entrance-exam-2022/main/sportsday.csv\"\n",
    ")"
   ]
  },
  {
   "cell_type": "code",
   "execution_count": null,
   "metadata": {
    "colab": {
     "base_uri": "https://localhost:8080/",
     "height": 423
    },
    "executionInfo": {
     "elapsed": 401,
     "status": "ok",
     "timestamp": 1729579599250,
     "user": {
      "displayName": "ธรรศ บุนนาค",
      "userId": "10254962030361458836"
     },
     "user_tz": -420
    },
    "id": "Skv9jVrtTNOy",
    "outputId": "9d9a674a-c131-4fde-ae76-d33bad9980a5"
   },
   "outputs": [],
   "source": [
    "Sport_day_DF"
   ]
  },
  {
   "cell_type": "markdown",
   "metadata": {
    "id": "UTOuX-FJYtIK"
   },
   "source": [
    "โจทย์ปัญหาที่ 1: ทีมอะไรบ้าง\n",
    "\n",
    "จงเติมฟังชั่น `team` ให้สมบูรณ์ ซึ่งรับข้อมูลตารางสถิติการแข่งกีฬา (ตามโครงสร้างที่ระบุข้างต้น)  \n",
    "แล้วคำนวณว่าในตารางดังกล่าว มีทีมสีทั้งหมดกี่ทีม โดยให้ส่งค่าออกมาเป็นlistของทีมทั้งหมด"
   ]
  },
  {
   "cell_type": "code",
   "execution_count": null,
   "metadata": {
    "colab": {
     "base_uri": "https://localhost:8080/",
     "height": 458
    },
    "executionInfo": {
     "elapsed": 384,
     "status": "ok",
     "timestamp": 1729579919120,
     "user": {
      "displayName": "ธรรศ บุนนาค",
      "userId": "10254962030361458836"
     },
     "user_tz": -420
    },
    "id": "7Mef_sYP_AjY",
    "outputId": "2bef06ad-f7a6-49cc-ba9a-c3b4c1050568"
   },
   "outputs": [],
   "source": [
    "Sport_day_DF.iloc[:, 3]"
   ]
  },
  {
   "cell_type": "code",
   "execution_count": null,
   "metadata": {
    "colab": {
     "base_uri": "https://localhost:8080/"
    },
    "executionInfo": {
     "elapsed": 361,
     "status": "ok",
     "timestamp": 1729580473765,
     "user": {
      "displayName": "ธรรศ บุนนาค",
      "userId": "10254962030361458836"
     },
     "user_tz": -420
    },
    "id": "YdIhEu0CYsxQ",
    "outputId": "311c688d-0104-4d9b-d903-c11beb403db6"
   },
   "outputs": [],
   "source": [
    "def team(df: pd.DataFrame) -> str:\n",
    "    new_list = []\n",
    "    for i in df.iloc[:, 3]:\n",
    "        if i not in new_list:\n",
    "            new_list.append(i)\n",
    "\n",
    "    return np.array(new_list)\n",
    "\n",
    "\n",
    "print(team(Sport_day_DF))"
   ]
  },
  {
   "cell_type": "code",
   "execution_count": null,
   "metadata": {
    "colab": {
     "base_uri": "https://localhost:8080/"
    },
    "executionInfo": {
     "elapsed": 400,
     "status": "ok",
     "timestamp": 1729580476496,
     "user": {
      "displayName": "ธรรศ บุนนาค",
      "userId": "10254962030361458836"
     },
     "user_tz": -420
    },
    "id": "REmuN8TNZf4L",
    "outputId": "603c653b-b484-4f0a-aa05-3e58de621015"
   },
   "outputs": [],
   "source": [
    "def test_common_last_name():\n",
    "    assert str(team(Sport_day_DF)) == str(\n",
    "        np.array([\"whale_blue\", \"duckling_yellow\", \"salmon_red\", \"caterpillar_green\"])\n",
    "    )\n",
    "    print(\"==== Test OK ====\")\n",
    "\n",
    "\n",
    "test_common_last_name()"
   ]
  },
  {
   "cell_type": "markdown",
   "metadata": {
    "id": "nt7TUMUhW7Yz"
   },
   "source": [
    "โจทย์ปัญหาที่ 2: นามสกุลที่โหลที่สุด\n",
    "\n",
    "จงเติมฟังก์ชัน `common_last_name` ให้สมบูรณ์ ซึ่งรับข้อมูลตารางสถิติการแข่งกีฬา (ตามโครงสร้างที่ระบุข้างต้น)  \n",
    "แล้วคำนวณว่านามสกุลที่พบได้บ่อยที่สุดในตารางดังกล่าว มีทั้งสิ้นกี่คน\n",
    "\n",
    "อินพุตของฟังก์ชัน\n",
    "\n",
    "- `df` : ข้อมูลสถิติกีฬาจากงานกีฬาสี\n",
    "\n",
    "ฟังก์ชันรีเทิร์นค่า\n",
    "\n",
    "- จำนวนคนที่มากที่สุดที่ใช้นามสกุลเดียวกัน\n",
    "\n",
    "คำใบ้และข้อมูลเพิ่มเติม\n",
    "\n",
    "- เลือกเฉพาะคอลัมน์ `last_name`\n",
    "- [Documentation ของ `pandas.Series.value_counts`](https://pandas.pydata.org/docs/reference/api/pandas.Series.value_counts.html)\n",
    "- อาจต้องเรียกใช้ฟังก์ชันอื่นเพิ่มอีก"
   ]
  },
  {
   "cell_type": "code",
   "execution_count": null,
   "metadata": {
    "colab": {
     "base_uri": "https://localhost:8080/",
     "height": 1000
    },
    "executionInfo": {
     "elapsed": 359,
     "status": "ok",
     "timestamp": 1729581483520,
     "user": {
      "displayName": "ธรรศ บุนนาค",
      "userId": "10254962030361458836"
     },
     "user_tz": -420
    },
    "id": "mUrHJ49eDFT5",
    "outputId": "f7ced352-34dd-452a-ae9e-28adeee9c343"
   },
   "outputs": [],
   "source": [
    "Sport_day_DF[\"last_name\"].value_counts()"
   ]
  },
  {
   "cell_type": "code",
   "execution_count": null,
   "metadata": {
    "colab": {
     "base_uri": "https://localhost:8080/"
    },
    "executionInfo": {
     "elapsed": 374,
     "status": "ok",
     "timestamp": 1729581832263,
     "user": {
      "displayName": "ธรรศ บุนนาค",
      "userId": "10254962030361458836"
     },
     "user_tz": -420
    },
    "id": "I6sbal86UwuC",
    "outputId": "ffe36550-76ea-4f19-8e64-4bb295feca3a"
   },
   "outputs": [],
   "source": [
    "def common_last_name(df: pd.DataFrame) -> str:\n",
    "    last_name = df[\"last_name\"].value_counts()\n",
    "    return last_name.max()\n",
    "\n",
    "\n",
    "print(common_last_name(Sport_day_DF))"
   ]
  },
  {
   "cell_type": "code",
   "execution_count": null,
   "metadata": {
    "colab": {
     "base_uri": "https://localhost:8080/"
    },
    "executionInfo": {
     "elapsed": 377,
     "status": "ok",
     "timestamp": 1729581469752,
     "user": {
      "displayName": "ธรรศ บุนนาค",
      "userId": "10254962030361458836"
     },
     "user_tz": -420
    },
    "id": "kuvk5oWSXI8Q",
    "outputId": "c6346bd2-28f1-4617-cae9-f9ad6ac74b36"
   },
   "outputs": [],
   "source": [
    "def test_common_last_name():\n",
    "    assert common_last_name(Sport_day_DF) == 8\n",
    "    assert common_last_name(Sport_day_DF[Sport_day_DF.team_color == \"salmon_red\"]) == 4\n",
    "    assert common_last_name(Sport_day_DF[Sport_day_DF[\"class\"] == 7]) == 3\n",
    "    print(\"==== Test OK ====\")\n",
    "\n",
    "\n",
    "test_common_last_name()"
   ]
  },
  {
   "cell_type": "markdown",
   "metadata": {
    "id": "xNv_K0KmXi8M"
   },
   "source": [
    "โจทย์ปัญหาที่ 3: นักวิ่งลมกรดประจำทีม\n",
    "\n",
    "จงเติมฟังก์ชัน `fast_runners` ให้สมบูรณ์ ซึ่งรับข้อมูลตารางสถิติการแข่งกีฬา (ตามโครงสร้างที่ระบุข้างต้น)  \n",
    "แล้วให้กรองคัดเลือกแถวข้อมูลเฉพาะทีมที่กำหนด และสามารถวิ่งระยะ 100 เมตรภายในระยะเวลาที่กำหนด\n",
    "\n",
    " อินพุตของฟังก์ชัน\n",
    "\n",
    "- `df` : ข้อมูลสถิติกีฬาจากงานกีฬาสี\n",
    "- `team_color` : ชื่อทีมกีฬาสี\n",
    "- `max_running_time` : เกณฑ์เวลาที่ใช้วิ่งในระยะ 100 เมตร\n",
    "\n",
    " ฟังก์ชันรีเทิร์นค่า\n",
    "\n",
    "- ตารางใหม่ที่เกิดจากการกรองคัดเฉพาะคนที่มีคุณสมบัติตามที่กำหนดข้างต้น\n",
    "\n",
    " คำใบ้และข้อมูลเพิ่มเติม\n",
    "\n",
    "- [Documentation ของการเลือกข้อมูลเฉพาะแถวที่ต้องการ](https://pandas.pydata.org/docs/user_guide/indexing.html)"
   ]
  },
  {
   "cell_type": "code",
   "execution_count": null,
   "metadata": {
    "colab": {
     "base_uri": "https://localhost:8080/",
     "height": 458
    },
    "executionInfo": {
     "elapsed": 398,
     "status": "ok",
     "timestamp": 1729582372853,
     "user": {
      "displayName": "ธรรศ บุนนาค",
      "userId": "10254962030361458836"
     },
     "user_tz": -420
    },
    "id": "zg-FSKNSHsCQ",
    "outputId": "51960262-5884-4ba6-cd81-c32576b19837"
   },
   "outputs": [],
   "source": [
    "Sport_day_DF[\"100m_running_sec\"] >= 10"
   ]
  },
  {
   "cell_type": "code",
   "execution_count": 9,
   "metadata": {
    "executionInfo": {
     "elapsed": 3,
     "status": "ok",
     "timestamp": 1729582581805,
     "user": {
      "displayName": "ธรรศ บุนนาค",
      "userId": "10254962030361458836"
     },
     "user_tz": -420
    },
    "id": "3353ntBmXz4f"
   },
   "outputs": [],
   "source": [
    "def fast_runners(df: pd.DataFrame, team_color: str, run_time: float) -> pd.DataFrame:\n",
    "    df = df[df[\"team_color\"] == team_color]\n",
    "    df = df[df[\"100m_running_sec\"] <= run_time]\n",
    "\n",
    "    return df"
   ]
  },
  {
   "cell_type": "code",
   "execution_count": null,
   "metadata": {
    "colab": {
     "base_uri": "https://localhost:8080/"
    },
    "executionInfo": {
     "elapsed": 395,
     "status": "ok",
     "timestamp": 1729582584558,
     "user": {
      "displayName": "ธรรศ บุนนาค",
      "userId": "10254962030361458836"
     },
     "user_tz": -420
    },
    "id": "N6uqFrpmXidS",
    "outputId": "4381196c-4c43-4ce2-bd51-7f43ac27eebe"
   },
   "outputs": [],
   "source": [
    "def test_fast_runners():\n",
    "    result = fast_runners(Sport_day_DF, \"salmon_red\", 12.0)\n",
    "    pd.testing.assert_index_equal(result.columns, Sport_day_DF.columns)\n",
    "\n",
    "    assert set(\n",
    "        result[[\"first_name\", \"last_name\"]].itertuples(index=False, name=None)\n",
    "    ) == {\n",
    "        (\"Angela\", \"Williams\"),\n",
    "        (\"Emily\", \"Flores\"),\n",
    "        (\"Gary\", \"Martinez\"),\n",
    "        (\"Jason\", \"Scott\"),\n",
    "        (\"Justin\", \"Lopez\"),\n",
    "    }\n",
    "\n",
    "    result = fast_runners(Sport_day_DF, \"caterpillar_green\", 11.5)\n",
    "    pd.testing.assert_index_equal(result.columns, Sport_day_DF.columns)\n",
    "\n",
    "    assert set(\n",
    "        result[[\"first_name\", \"last_name\"]].itertuples(index=False, name=None)\n",
    "    ) == {\n",
    "        (\"Daniel\", \"Rodriguez\"),\n",
    "        (\"Kathleen\", \"Edwards\"),\n",
    "        (\"Linda\", \"Turner\"),\n",
    "    }\n",
    "\n",
    "    result = fast_runners(Sport_day_DF, \"whale_blue\", 11.0)\n",
    "    pd.testing.assert_index_equal(result.columns, Sport_day_DF.columns)\n",
    "\n",
    "    assert (\n",
    "        set(result[[\"first_name\", \"last_name\"]].itertuples(index=False, name=None))\n",
    "        == set()\n",
    "    )\n",
    "\n",
    "    print(\"==== Test OK ====\")\n",
    "\n",
    "\n",
    "test_fast_runners()"
   ]
  }
 ],
 "metadata": {
  "colab": {
   "provenance": [
    {
     "file_id": "1Kfmbid8mffBhMc-76xQMYSTfp8pEPBzG",
     "timestamp": 1729579475340
    }
   ]
  },
  "kernelspec": {
   "display_name": ".venv",
   "language": "python",
   "name": "python3"
  },
  "language_info": {
   "codemirror_mode": {
    "name": "ipython",
    "version": 3
   },
   "file_extension": ".py",
   "mimetype": "text/x-python",
   "name": "python",
   "nbconvert_exporter": "python",
   "pygments_lexer": "ipython3",
   "version": "3.12.8"
  }
 },
 "nbformat": 4,
 "nbformat_minor": 0
}
